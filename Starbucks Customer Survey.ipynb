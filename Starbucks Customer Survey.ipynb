{
 "cells": [
  {
   "cell_type": "code",
   "execution_count": 1,
   "id": "8e433d72",
   "metadata": {},
   "outputs": [],
   "source": [
    "#Regular EDA and plotting Libraries\n",
    "import numpy as np\n",
    "import pandas as pd\n",
    "import matplotlib.pyplot as plt\n",
    "import seaborn as sns"
   ]
  },
  {
   "cell_type": "code",
   "execution_count": 2,
   "id": "f2fff011",
   "metadata": {},
   "outputs": [],
   "source": [
    "#we want out plots to appear in the notebook\n",
    "%matplotlib inline"
   ]
  },
  {
   "cell_type": "markdown",
   "id": "0c2ff490",
   "metadata": {},
   "source": [
    "# LOADING THE DATA"
   ]
  },
  {
   "cell_type": "code",
   "execution_count": 3,
   "id": "2b06fd57",
   "metadata": {},
   "outputs": [
    {
     "data": {
      "text/plain": [
       "(122, 21)"
      ]
     },
     "execution_count": 3,
     "metadata": {},
     "output_type": "execute_result"
    }
   ],
   "source": [
    "raw_data = pd.read_csv(\"./Dataset/Starbucks satisfactory survey.csv\")\n",
    "raw_data.shape"
   ]
  },
  {
   "cell_type": "markdown",
   "id": "009c3000",
   "metadata": {},
   "source": [
    "# DATA EXPLORATION"
   ]
  },
  {
   "cell_type": "code",
   "execution_count": 4,
   "id": "7705f0da",
   "metadata": {},
   "outputs": [
    {
     "data": {
      "text/html": [
       "<div>\n",
       "<style scoped>\n",
       "    .dataframe tbody tr th:only-of-type {\n",
       "        vertical-align: middle;\n",
       "    }\n",
       "\n",
       "    .dataframe tbody tr th {\n",
       "        vertical-align: top;\n",
       "    }\n",
       "\n",
       "    .dataframe thead th {\n",
       "        text-align: right;\n",
       "    }\n",
       "</style>\n",
       "<table border=\"1\" class=\"dataframe\">\n",
       "  <thead>\n",
       "    <tr style=\"text-align: right;\">\n",
       "      <th></th>\n",
       "      <th>Timestamp</th>\n",
       "      <th>1. Your Gender</th>\n",
       "      <th>2. Your Age</th>\n",
       "      <th>3. Are you currently....?</th>\n",
       "      <th>4. What is your annual income?</th>\n",
       "      <th>5. How often do you visit Starbucks?</th>\n",
       "      <th>6. How do you usually enjoy Starbucks?</th>\n",
       "      <th>7. How much time do you normally  spend during your visit?</th>\n",
       "      <th>8. The nearest Starbucks's outlet to you is...?</th>\n",
       "      <th>9. Do you have Starbucks membership card?</th>\n",
       "      <th>...</th>\n",
       "      <th>11. On average, how much would you spend at Starbucks per visit?</th>\n",
       "      <th>12. How would you rate the quality of Starbucks compared to other brands (Coffee Bean, Old Town White Coffee..) to be:</th>\n",
       "      <th>13. How would you rate the price range at Starbucks?</th>\n",
       "      <th>14. How important are sales and promotions in your purchase decision?</th>\n",
       "      <th>15. How would you rate the ambiance at Starbucks? (lighting, music, etc...)</th>\n",
       "      <th>16. You rate the WiFi quality at Starbucks as..</th>\n",
       "      <th>17. How would you rate the service at Starbucks? (Promptness, friendliness, etc..)</th>\n",
       "      <th>18. How likely you will choose Starbucks for doing business meetings or hangout with friends?</th>\n",
       "      <th>19. How do you come to hear of promotions at Starbucks? Check all that apply.</th>\n",
       "      <th>20. Will you continue buying at Starbucks?</th>\n",
       "    </tr>\n",
       "  </thead>\n",
       "  <tbody>\n",
       "    <tr>\n",
       "      <th>0</th>\n",
       "      <td>2019/10/01 12:38:43 PM GMT+8</td>\n",
       "      <td>Female</td>\n",
       "      <td>From 20 to 29</td>\n",
       "      <td>Student</td>\n",
       "      <td>Less than RM25,000</td>\n",
       "      <td>Rarely</td>\n",
       "      <td>Dine in</td>\n",
       "      <td>Between 30 minutes to 1 hour</td>\n",
       "      <td>within 1km</td>\n",
       "      <td>Yes</td>\n",
       "      <td>...</td>\n",
       "      <td>Less than RM20</td>\n",
       "      <td>4</td>\n",
       "      <td>3</td>\n",
       "      <td>5</td>\n",
       "      <td>5</td>\n",
       "      <td>4</td>\n",
       "      <td>4</td>\n",
       "      <td>3</td>\n",
       "      <td>Starbucks Website/Apps;Social Media;Emails;Dea...</td>\n",
       "      <td>Yes</td>\n",
       "    </tr>\n",
       "    <tr>\n",
       "      <th>1</th>\n",
       "      <td>2019/10/01 12:38:54 PM GMT+8</td>\n",
       "      <td>Female</td>\n",
       "      <td>From 20 to 29</td>\n",
       "      <td>Student</td>\n",
       "      <td>Less than RM25,000</td>\n",
       "      <td>Rarely</td>\n",
       "      <td>Take away</td>\n",
       "      <td>Below 30 minutes</td>\n",
       "      <td>1km - 3km</td>\n",
       "      <td>Yes</td>\n",
       "      <td>...</td>\n",
       "      <td>Less than RM20</td>\n",
       "      <td>4</td>\n",
       "      <td>3</td>\n",
       "      <td>4</td>\n",
       "      <td>4</td>\n",
       "      <td>4</td>\n",
       "      <td>5</td>\n",
       "      <td>2</td>\n",
       "      <td>Social Media;In Store displays</td>\n",
       "      <td>Yes</td>\n",
       "    </tr>\n",
       "    <tr>\n",
       "      <th>2</th>\n",
       "      <td>2019/10/01 12:38:56 PM GMT+8</td>\n",
       "      <td>Male</td>\n",
       "      <td>From 20 to 29</td>\n",
       "      <td>Employed</td>\n",
       "      <td>Less than RM25,000</td>\n",
       "      <td>Monthly</td>\n",
       "      <td>Dine in</td>\n",
       "      <td>Between 30 minutes to 1 hour</td>\n",
       "      <td>more than 3km</td>\n",
       "      <td>Yes</td>\n",
       "      <td>...</td>\n",
       "      <td>Less than RM20</td>\n",
       "      <td>4</td>\n",
       "      <td>3</td>\n",
       "      <td>4</td>\n",
       "      <td>4</td>\n",
       "      <td>4</td>\n",
       "      <td>4</td>\n",
       "      <td>3</td>\n",
       "      <td>In Store displays;Billboards</td>\n",
       "      <td>Yes</td>\n",
       "    </tr>\n",
       "    <tr>\n",
       "      <th>3</th>\n",
       "      <td>2019/10/01 12:39:08 PM GMT+8</td>\n",
       "      <td>Female</td>\n",
       "      <td>From 20 to 29</td>\n",
       "      <td>Student</td>\n",
       "      <td>Less than RM25,000</td>\n",
       "      <td>Rarely</td>\n",
       "      <td>Take away</td>\n",
       "      <td>Below 30 minutes</td>\n",
       "      <td>more than 3km</td>\n",
       "      <td>No</td>\n",
       "      <td>...</td>\n",
       "      <td>Less than RM20</td>\n",
       "      <td>2</td>\n",
       "      <td>1</td>\n",
       "      <td>4</td>\n",
       "      <td>3</td>\n",
       "      <td>3</td>\n",
       "      <td>3</td>\n",
       "      <td>3</td>\n",
       "      <td>Through friends and word of mouth</td>\n",
       "      <td>No</td>\n",
       "    </tr>\n",
       "    <tr>\n",
       "      <th>4</th>\n",
       "      <td>2019/10/01 12:39:20 PM GMT+8</td>\n",
       "      <td>Male</td>\n",
       "      <td>From 20 to 29</td>\n",
       "      <td>Student</td>\n",
       "      <td>Less than RM25,000</td>\n",
       "      <td>Monthly</td>\n",
       "      <td>Take away</td>\n",
       "      <td>Between 30 minutes to 1 hour</td>\n",
       "      <td>1km - 3km</td>\n",
       "      <td>No</td>\n",
       "      <td>...</td>\n",
       "      <td>Around RM20 - RM40</td>\n",
       "      <td>3</td>\n",
       "      <td>3</td>\n",
       "      <td>4</td>\n",
       "      <td>2</td>\n",
       "      <td>2</td>\n",
       "      <td>3</td>\n",
       "      <td>3</td>\n",
       "      <td>Starbucks Website/Apps;Social Media</td>\n",
       "      <td>Yes</td>\n",
       "    </tr>\n",
       "  </tbody>\n",
       "</table>\n",
       "<p>5 rows × 21 columns</p>\n",
       "</div>"
      ],
      "text/plain": [
       "                      Timestamp 1. Your Gender    2. Your Age  \\\n",
       "0  2019/10/01 12:38:43 PM GMT+8         Female  From 20 to 29   \n",
       "1  2019/10/01 12:38:54 PM GMT+8         Female  From 20 to 29   \n",
       "2  2019/10/01 12:38:56 PM GMT+8           Male  From 20 to 29   \n",
       "3  2019/10/01 12:39:08 PM GMT+8         Female  From 20 to 29   \n",
       "4  2019/10/01 12:39:20 PM GMT+8           Male  From 20 to 29   \n",
       "\n",
       "  3. Are you currently....? 4. What is your annual income?  \\\n",
       "0                   Student             Less than RM25,000   \n",
       "1                   Student             Less than RM25,000   \n",
       "2                  Employed             Less than RM25,000   \n",
       "3                   Student             Less than RM25,000   \n",
       "4                   Student             Less than RM25,000   \n",
       "\n",
       "  5. How often do you visit Starbucks? 6. How do you usually enjoy Starbucks?  \\\n",
       "0                               Rarely                                Dine in   \n",
       "1                               Rarely                              Take away   \n",
       "2                              Monthly                                Dine in   \n",
       "3                               Rarely                              Take away   \n",
       "4                              Monthly                              Take away   \n",
       "\n",
       "  7. How much time do you normally  spend during your visit?  \\\n",
       "0                       Between 30 minutes to 1 hour           \n",
       "1                                   Below 30 minutes           \n",
       "2                       Between 30 minutes to 1 hour           \n",
       "3                                   Below 30 minutes           \n",
       "4                       Between 30 minutes to 1 hour           \n",
       "\n",
       "  8. The nearest Starbucks's outlet to you is...?  \\\n",
       "0                                      within 1km   \n",
       "1                                       1km - 3km   \n",
       "2                                   more than 3km   \n",
       "3                                   more than 3km   \n",
       "4                                       1km - 3km   \n",
       "\n",
       "  9. Do you have Starbucks membership card?  ...  \\\n",
       "0                                       Yes  ...   \n",
       "1                                       Yes  ...   \n",
       "2                                       Yes  ...   \n",
       "3                                        No  ...   \n",
       "4                                        No  ...   \n",
       "\n",
       "  11. On average, how much would you spend at Starbucks per visit?  \\\n",
       "0                                     Less than RM20                 \n",
       "1                                     Less than RM20                 \n",
       "2                                     Less than RM20                 \n",
       "3                                     Less than RM20                 \n",
       "4                                 Around RM20 - RM40                 \n",
       "\n",
       "  12. How would you rate the quality of Starbucks compared to other brands (Coffee Bean, Old Town White Coffee..) to be:  \\\n",
       "0                                                  4                                                                       \n",
       "1                                                  4                                                                       \n",
       "2                                                  4                                                                       \n",
       "3                                                  2                                                                       \n",
       "4                                                  3                                                                       \n",
       "\n",
       "   13. How would you rate the price range at Starbucks?  \\\n",
       "0                                                  3      \n",
       "1                                                  3      \n",
       "2                                                  3      \n",
       "3                                                  1      \n",
       "4                                                  3      \n",
       "\n",
       "   14. How important are sales and promotions in your purchase decision?  \\\n",
       "0                                                  5                       \n",
       "1                                                  4                       \n",
       "2                                                  4                       \n",
       "3                                                  4                       \n",
       "4                                                  4                       \n",
       "\n",
       "   15. How would you rate the ambiance at Starbucks? (lighting, music, etc...)  \\\n",
       "0                                                  5                             \n",
       "1                                                  4                             \n",
       "2                                                  4                             \n",
       "3                                                  3                             \n",
       "4                                                  2                             \n",
       "\n",
       "   16. You rate the WiFi quality at Starbucks as..  \\\n",
       "0                                                4   \n",
       "1                                                4   \n",
       "2                                                4   \n",
       "3                                                3   \n",
       "4                                                2   \n",
       "\n",
       "   17. How would you rate the service at Starbucks? (Promptness, friendliness, etc..)  \\\n",
       "0                                                  4                                    \n",
       "1                                                  5                                    \n",
       "2                                                  4                                    \n",
       "3                                                  3                                    \n",
       "4                                                  3                                    \n",
       "\n",
       "   18. How likely you will choose Starbucks for doing business meetings or hangout with friends?  \\\n",
       "0                                                  3                                               \n",
       "1                                                  2                                               \n",
       "2                                                  3                                               \n",
       "3                                                  3                                               \n",
       "4                                                  3                                               \n",
       "\n",
       "   19. How do you come to hear of promotions at Starbucks? Check all that apply.  \\\n",
       "0  Starbucks Website/Apps;Social Media;Emails;Dea...                               \n",
       "1                     Social Media;In Store displays                               \n",
       "2                       In Store displays;Billboards                               \n",
       "3                  Through friends and word of mouth                               \n",
       "4                Starbucks Website/Apps;Social Media                               \n",
       "\n",
       "  20. Will you continue buying at Starbucks?  \n",
       "0                                        Yes  \n",
       "1                                        Yes  \n",
       "2                                        Yes  \n",
       "3                                         No  \n",
       "4                                        Yes  \n",
       "\n",
       "[5 rows x 21 columns]"
      ]
     },
     "execution_count": 4,
     "metadata": {},
     "output_type": "execute_result"
    }
   ],
   "source": [
    "#Let's check the top 5 rows of our dataframe\n",
    "raw_data.head()"
   ]
  },
  {
   "cell_type": "markdown",
   "id": "805e75b8",
   "metadata": {},
   "source": [
    "## Variable Description"
   ]
  },
  {
   "cell_type": "markdown",
   "id": "ab8570bc",
   "metadata": {},
   "source": [
    "##### 1. Your Gender   \n",
    ":[Female or Male]\n",
    "##### 2. Your Age      \n",
    ": age range of respondents. [20-29, 30-39, other]\n",
    "##### 3. Are you currently....?                                                \n",
    ": Respondent's employment status. [Employed, Student, Other]\n",
    "##### 4. What is your annual income?                                  \n",
    ": Respondent's income (in Malaysian Ringgit). \n",
    "##### 5. How often do you visit Starbucks? \n",
    ": How often the respondent visits.\n",
    "##### 6. How do you usually enjoy Starbucks?    \n",
    ": Type of visit [Dine in or Take away].\n",
    "##### 7. How much time do you normally spend during your visit?   \n",
    ": Length of visit.\n",
    "##### 8. The nearest Starbucks's outlet to you is...?  \n",
    ": The distance of the nearest Starbucks outletfrom the respondent's location.\n",
    "##### 9. Do you have Starbucks membership card?\n",
    ": Ownership of respondent's membership card.\n",
    "##### 10. What do you most frequently purchase at Starbucks?  \n",
    ": The respondent's average purchase expenditure.\n",
    "##### 11. On average, how much would you spend at Starbucks per visit?   \n",
    ": Product rating by respondents on a scale of 1-5.\n",
    "##### 12. How would you rate the price range at Starbucks? \n",
    ": Price rating by respondents on a scale of 1-5.\n",
    "##### 13. How important are sales and promotions in your purchase decision?  \n",
    ": Promotion rating by respondents on a scale of 1-5.\n",
    "##### 14. How would you rate the ambiance at Starbucks? (lighting, music, etc...) \n",
    ": Atmosphere rating by respondents on a scale of  1-5.\n",
    "##### 15. You rate the WiFi quality at Starbucks as..\n",
    ": WiFi rating by respondents on a scale of 1-5.\n",
    "##### 16. How would you rate the service at Starbucks? (Promptness, friendliness, etc..)                       \n",
    ": Service rating by respondents on a scale of 1-5.\n",
    "##### 17. How likely you will choose Starbucks for doing business meetings or hangout with friends? \n",
    ": The suitability rating as a hangout place by respondents on a scale of 1-5."
   ]
  },
  {
   "cell_type": "code",
   "execution_count": 5,
   "id": "a5309d3b",
   "metadata": {},
   "outputs": [
    {
     "data": {
      "text/plain": [
       "Index(['Timestamp', '1. Your Gender', '2. Your Age',\n",
       "       '3. Are you currently....?', '4. What is your annual income?',\n",
       "       '5. How often do you visit Starbucks?',\n",
       "       '6. How do you usually enjoy Starbucks?',\n",
       "       '7. How much time do you normally  spend during your visit?',\n",
       "       '8. The nearest Starbucks's outlet to you is...?',\n",
       "       '9. Do you have Starbucks membership card?',\n",
       "       '10. What do you most frequently purchase at Starbucks?',\n",
       "       '11. On average, how much would you spend at Starbucks per visit?',\n",
       "       '12. How would you rate the quality of Starbucks compared to other brands (Coffee Bean, Old Town White Coffee..) to be:',\n",
       "       '13. How would you rate the price range at Starbucks?',\n",
       "       '14. How important are sales and promotions in your purchase decision?',\n",
       "       '15. How would you rate the ambiance at Starbucks? (lighting, music, etc...)',\n",
       "       '16. You rate the WiFi quality at Starbucks as..',\n",
       "       '17. How would you rate the service at Starbucks? (Promptness, friendliness, etc..)',\n",
       "       '18. How likely you will choose Starbucks for doing business meetings or hangout with friends?',\n",
       "       '19. How do you come to hear of promotions at Starbucks? Check all that apply.',\n",
       "       '20. Will you continue buying at Starbucks?'],\n",
       "      dtype='object')"
      ]
     },
     "execution_count": 5,
     "metadata": {},
     "output_type": "execute_result"
    }
   ],
   "source": [
    "raw_data.columns"
   ]
  },
  {
   "cell_type": "code",
   "execution_count": 6,
   "id": "a8bfac97",
   "metadata": {},
   "outputs": [],
   "source": [
    "raw_data.rename({'1. Your Gender' : 'Gender', '2. Your Age' : 'Age', '3. Are you currently....?' : 'Work_Status', '4. What is your annual income?' : 'Annual_Income', '5. How often do you visit Starbucks?' : 'Visit', '6. How do you usually enjoy Starbucks?' : 'Visit_Type', '7. How much time do you normally  spend during your visit?' : 'Visit_Duration', \"8. The nearest Starbucks's outlet to you is...?\" : 'Distance', '9. Do you have Starbucks membership card?' : 'Membership', '10. What do you most frequently purchase at Starbucks?' : \"favourite\", '11. On average, how much would you spend at Starbucks per visit?' : 'Spending', '12. How would you rate the quality of Starbucks compared to other brands (Coffee Bean, Old Town White Coffee..) to be:' : 'Product_Rating', '13. How would you rate the price range at Starbucks?' : 'Price_Rating', '14. How important are sales and promotions in your purchase decision?' : 'Promo_Rating', '15. How would you rate the ambiance at Starbucks? (lighting, music, etc...)' : 'Ambiance_Rating', '16. You rate the WiFi quality at Starbucks as..' : 'Wifi_Rating', '17. How would you rate the service at Starbucks? (Promptness, friendliness, etc..)' : 'Service_Rating', '18. How likely you will choose Starbucks for doing business meetings or hangout with friends?' : 'Hangout_Rating', '19. How do you come to hear of promotions at Starbucks? Check all that apply.' : 'promotion', '20. Will you continue buying at Starbucks?' : 'Loyality'} , inplace = True , axis = 1)"
   ]
  },
  {
   "cell_type": "code",
   "execution_count": 7,
   "id": "3659dd6f",
   "metadata": {},
   "outputs": [
    {
     "data": {
      "text/html": [
       "<div>\n",
       "<style scoped>\n",
       "    .dataframe tbody tr th:only-of-type {\n",
       "        vertical-align: middle;\n",
       "    }\n",
       "\n",
       "    .dataframe tbody tr th {\n",
       "        vertical-align: top;\n",
       "    }\n",
       "\n",
       "    .dataframe thead th {\n",
       "        text-align: right;\n",
       "    }\n",
       "</style>\n",
       "<table border=\"1\" class=\"dataframe\">\n",
       "  <thead>\n",
       "    <tr style=\"text-align: right;\">\n",
       "      <th></th>\n",
       "      <th>Timestamp</th>\n",
       "      <th>Gender</th>\n",
       "      <th>Age</th>\n",
       "      <th>Work_Status</th>\n",
       "      <th>Annual_Income</th>\n",
       "      <th>Visit</th>\n",
       "      <th>Visit_Type</th>\n",
       "      <th>Visit_Duration</th>\n",
       "      <th>Distance</th>\n",
       "      <th>Membership</th>\n",
       "      <th>...</th>\n",
       "      <th>Spending</th>\n",
       "      <th>Product_Rating</th>\n",
       "      <th>Price_Rating</th>\n",
       "      <th>Promo_Rating</th>\n",
       "      <th>Ambiance_Rating</th>\n",
       "      <th>Wifi_Rating</th>\n",
       "      <th>Service_Rating</th>\n",
       "      <th>Hangout_Rating</th>\n",
       "      <th>promotion</th>\n",
       "      <th>Loyality</th>\n",
       "    </tr>\n",
       "  </thead>\n",
       "  <tbody>\n",
       "    <tr>\n",
       "      <th>0</th>\n",
       "      <td>2019/10/01 12:38:43 PM GMT+8</td>\n",
       "      <td>Female</td>\n",
       "      <td>From 20 to 29</td>\n",
       "      <td>Student</td>\n",
       "      <td>Less than RM25,000</td>\n",
       "      <td>Rarely</td>\n",
       "      <td>Dine in</td>\n",
       "      <td>Between 30 minutes to 1 hour</td>\n",
       "      <td>within 1km</td>\n",
       "      <td>Yes</td>\n",
       "      <td>...</td>\n",
       "      <td>Less than RM20</td>\n",
       "      <td>4</td>\n",
       "      <td>3</td>\n",
       "      <td>5</td>\n",
       "      <td>5</td>\n",
       "      <td>4</td>\n",
       "      <td>4</td>\n",
       "      <td>3</td>\n",
       "      <td>Starbucks Website/Apps;Social Media;Emails;Dea...</td>\n",
       "      <td>Yes</td>\n",
       "    </tr>\n",
       "    <tr>\n",
       "      <th>1</th>\n",
       "      <td>2019/10/01 12:38:54 PM GMT+8</td>\n",
       "      <td>Female</td>\n",
       "      <td>From 20 to 29</td>\n",
       "      <td>Student</td>\n",
       "      <td>Less than RM25,000</td>\n",
       "      <td>Rarely</td>\n",
       "      <td>Take away</td>\n",
       "      <td>Below 30 minutes</td>\n",
       "      <td>1km - 3km</td>\n",
       "      <td>Yes</td>\n",
       "      <td>...</td>\n",
       "      <td>Less than RM20</td>\n",
       "      <td>4</td>\n",
       "      <td>3</td>\n",
       "      <td>4</td>\n",
       "      <td>4</td>\n",
       "      <td>4</td>\n",
       "      <td>5</td>\n",
       "      <td>2</td>\n",
       "      <td>Social Media;In Store displays</td>\n",
       "      <td>Yes</td>\n",
       "    </tr>\n",
       "    <tr>\n",
       "      <th>2</th>\n",
       "      <td>2019/10/01 12:38:56 PM GMT+8</td>\n",
       "      <td>Male</td>\n",
       "      <td>From 20 to 29</td>\n",
       "      <td>Employed</td>\n",
       "      <td>Less than RM25,000</td>\n",
       "      <td>Monthly</td>\n",
       "      <td>Dine in</td>\n",
       "      <td>Between 30 minutes to 1 hour</td>\n",
       "      <td>more than 3km</td>\n",
       "      <td>Yes</td>\n",
       "      <td>...</td>\n",
       "      <td>Less than RM20</td>\n",
       "      <td>4</td>\n",
       "      <td>3</td>\n",
       "      <td>4</td>\n",
       "      <td>4</td>\n",
       "      <td>4</td>\n",
       "      <td>4</td>\n",
       "      <td>3</td>\n",
       "      <td>In Store displays;Billboards</td>\n",
       "      <td>Yes</td>\n",
       "    </tr>\n",
       "    <tr>\n",
       "      <th>3</th>\n",
       "      <td>2019/10/01 12:39:08 PM GMT+8</td>\n",
       "      <td>Female</td>\n",
       "      <td>From 20 to 29</td>\n",
       "      <td>Student</td>\n",
       "      <td>Less than RM25,000</td>\n",
       "      <td>Rarely</td>\n",
       "      <td>Take away</td>\n",
       "      <td>Below 30 minutes</td>\n",
       "      <td>more than 3km</td>\n",
       "      <td>No</td>\n",
       "      <td>...</td>\n",
       "      <td>Less than RM20</td>\n",
       "      <td>2</td>\n",
       "      <td>1</td>\n",
       "      <td>4</td>\n",
       "      <td>3</td>\n",
       "      <td>3</td>\n",
       "      <td>3</td>\n",
       "      <td>3</td>\n",
       "      <td>Through friends and word of mouth</td>\n",
       "      <td>No</td>\n",
       "    </tr>\n",
       "    <tr>\n",
       "      <th>4</th>\n",
       "      <td>2019/10/01 12:39:20 PM GMT+8</td>\n",
       "      <td>Male</td>\n",
       "      <td>From 20 to 29</td>\n",
       "      <td>Student</td>\n",
       "      <td>Less than RM25,000</td>\n",
       "      <td>Monthly</td>\n",
       "      <td>Take away</td>\n",
       "      <td>Between 30 minutes to 1 hour</td>\n",
       "      <td>1km - 3km</td>\n",
       "      <td>No</td>\n",
       "      <td>...</td>\n",
       "      <td>Around RM20 - RM40</td>\n",
       "      <td>3</td>\n",
       "      <td>3</td>\n",
       "      <td>4</td>\n",
       "      <td>2</td>\n",
       "      <td>2</td>\n",
       "      <td>3</td>\n",
       "      <td>3</td>\n",
       "      <td>Starbucks Website/Apps;Social Media</td>\n",
       "      <td>Yes</td>\n",
       "    </tr>\n",
       "  </tbody>\n",
       "</table>\n",
       "<p>5 rows × 21 columns</p>\n",
       "</div>"
      ],
      "text/plain": [
       "                      Timestamp  Gender            Age Work_Status  \\\n",
       "0  2019/10/01 12:38:43 PM GMT+8  Female  From 20 to 29     Student   \n",
       "1  2019/10/01 12:38:54 PM GMT+8  Female  From 20 to 29     Student   \n",
       "2  2019/10/01 12:38:56 PM GMT+8    Male  From 20 to 29    Employed   \n",
       "3  2019/10/01 12:39:08 PM GMT+8  Female  From 20 to 29     Student   \n",
       "4  2019/10/01 12:39:20 PM GMT+8    Male  From 20 to 29     Student   \n",
       "\n",
       "        Annual_Income    Visit Visit_Type                Visit_Duration  \\\n",
       "0  Less than RM25,000   Rarely    Dine in  Between 30 minutes to 1 hour   \n",
       "1  Less than RM25,000   Rarely  Take away              Below 30 minutes   \n",
       "2  Less than RM25,000  Monthly    Dine in  Between 30 minutes to 1 hour   \n",
       "3  Less than RM25,000   Rarely  Take away              Below 30 minutes   \n",
       "4  Less than RM25,000  Monthly  Take away  Between 30 minutes to 1 hour   \n",
       "\n",
       "        Distance Membership  ...            Spending Product_Rating  \\\n",
       "0     within 1km        Yes  ...      Less than RM20              4   \n",
       "1      1km - 3km        Yes  ...      Less than RM20              4   \n",
       "2  more than 3km        Yes  ...      Less than RM20              4   \n",
       "3  more than 3km         No  ...      Less than RM20              2   \n",
       "4      1km - 3km         No  ...  Around RM20 - RM40              3   \n",
       "\n",
       "   Price_Rating  Promo_Rating  Ambiance_Rating  Wifi_Rating  Service_Rating  \\\n",
       "0             3             5                5            4               4   \n",
       "1             3             4                4            4               5   \n",
       "2             3             4                4            4               4   \n",
       "3             1             4                3            3               3   \n",
       "4             3             4                2            2               3   \n",
       "\n",
       "   Hangout_Rating                                          promotion Loyality  \n",
       "0               3  Starbucks Website/Apps;Social Media;Emails;Dea...      Yes  \n",
       "1               2                     Social Media;In Store displays      Yes  \n",
       "2               3                       In Store displays;Billboards      Yes  \n",
       "3               3                  Through friends and word of mouth       No  \n",
       "4               3                Starbucks Website/Apps;Social Media      Yes  \n",
       "\n",
       "[5 rows x 21 columns]"
      ]
     },
     "execution_count": 7,
     "metadata": {},
     "output_type": "execute_result"
    }
   ],
   "source": [
    "raw_data.head()"
   ]
  },
  {
   "cell_type": "code",
   "execution_count": 8,
   "id": "cb5b0eac",
   "metadata": {
    "scrolled": false
   },
   "outputs": [
    {
     "name": "stdout",
     "output_type": "stream",
     "text": [
      "<class 'pandas.core.frame.DataFrame'>\n",
      "RangeIndex: 122 entries, 0 to 121\n",
      "Data columns (total 21 columns):\n",
      " #   Column           Non-Null Count  Dtype \n",
      "---  ------           --------------  ----- \n",
      " 0   Timestamp        122 non-null    object\n",
      " 1   Gender           122 non-null    object\n",
      " 2   Age              122 non-null    object\n",
      " 3   Work_Status      122 non-null    object\n",
      " 4   Annual_Income    122 non-null    object\n",
      " 5   Visit            122 non-null    object\n",
      " 6   Visit_Type       121 non-null    object\n",
      " 7   Visit_Duration   122 non-null    object\n",
      " 8   Distance         122 non-null    object\n",
      " 9   Membership       122 non-null    object\n",
      " 10  favourite        122 non-null    object\n",
      " 11  Spending         122 non-null    object\n",
      " 12  Product_Rating   122 non-null    int64 \n",
      " 13  Price_Rating     122 non-null    int64 \n",
      " 14  Promo_Rating     122 non-null    int64 \n",
      " 15  Ambiance_Rating  122 non-null    int64 \n",
      " 16  Wifi_Rating      122 non-null    int64 \n",
      " 17  Service_Rating   122 non-null    int64 \n",
      " 18  Hangout_Rating   122 non-null    int64 \n",
      " 19  promotion        121 non-null    object\n",
      " 20  Loyality         122 non-null    object\n",
      "dtypes: int64(7), object(14)\n",
      "memory usage: 20.1+ KB\n"
     ]
    }
   ],
   "source": [
    "#Check for missing values\n",
    "raw_data.info()"
   ]
  },
  {
   "cell_type": "code",
   "execution_count": 9,
   "id": "4100f4b3",
   "metadata": {},
   "outputs": [
    {
     "data": {
      "text/plain": [
       "Timestamp          0\n",
       "Gender             0\n",
       "Age                0\n",
       "Work_Status        0\n",
       "Annual_Income      0\n",
       "Visit              0\n",
       "Visit_Type         1\n",
       "Visit_Duration     0\n",
       "Distance           0\n",
       "Membership         0\n",
       "favourite          0\n",
       "Spending           0\n",
       "Product_Rating     0\n",
       "Price_Rating       0\n",
       "Promo_Rating       0\n",
       "Ambiance_Rating    0\n",
       "Wifi_Rating        0\n",
       "Service_Rating     0\n",
       "Hangout_Rating     0\n",
       "promotion          1\n",
       "Loyality           0\n",
       "dtype: int64"
      ]
     },
     "execution_count": 9,
     "metadata": {},
     "output_type": "execute_result"
    }
   ],
   "source": [
    "# Checking for null values\n",
    "raw_data.isnull().sum()"
   ]
  },
  {
   "cell_type": "code",
   "execution_count": 10,
   "id": "7f0de8be",
   "metadata": {},
   "outputs": [
    {
     "name": "stdout",
     "output_type": "stream",
     "text": [
      "Timestamp          0\n",
      "Gender             0\n",
      "Age                0\n",
      "Work_Status        0\n",
      "Annual_Income      0\n",
      "Visit              0\n",
      "Visit_Type         0\n",
      "Visit_Duration     0\n",
      "Distance           0\n",
      "Membership         0\n",
      "favourite          0\n",
      "Spending           0\n",
      "Product_Rating     0\n",
      "Price_Rating       0\n",
      "Promo_Rating       0\n",
      "Ambiance_Rating    0\n",
      "Wifi_Rating        0\n",
      "Service_Rating     0\n",
      "Hangout_Rating     0\n",
      "promotion          0\n",
      "Loyality           0\n",
      "dtype: int64\n",
      "(121, 21)\n"
     ]
    }
   ],
   "source": [
    "#Removing the missing values by removing corresponding rows\n",
    "raw_data.dropna(inplace=True)\n",
    "print(raw_data.isnull().sum())\n",
    "print(raw_data.shape)"
   ]
  },
  {
   "cell_type": "markdown",
   "id": "d6f96811",
   "metadata": {},
   "source": [
    "#### Changing the dataType"
   ]
  },
  {
   "cell_type": "code",
   "execution_count": 11,
   "id": "f2f52316",
   "metadata": {
    "scrolled": false
   },
   "outputs": [],
   "source": [
    "raw_data['Loyality'].unique()\n",
    "raw_data[\"Loyality\"].replace({\"Yes\": 1, \"No\": 0}, inplace=True)\n",
    "###############################\n",
    "raw_data['Work_Status'].unique()\n",
    "raw_data[\"Work_Status\"].replace({\"Student\": 0, \"Employed\": 1, \"Self-employed\": 2, \"Housewife\": 3}, inplace=True)\n",
    "###############################\n",
    "raw_data['Gender'].unique()\n",
    "raw_data[\"Gender\"].replace({\"Male\": 1, \"Female\": 0}, inplace=True)\n",
    "###############################\n",
    "raw_data['Visit'].unique()\n",
    "raw_data[\"Visit\"].replace({\"Rarely\": 0, \"Monthly\": 1, \"Weekly\": 2, \"Never\": 3, \"Daily\": 4}, inplace=True)\n",
    "###############################\n",
    "raw_data['Membership'].unique()\n",
    "raw_data[\"Membership\"].replace({\"Yes\": 1, \"No\": 0}, inplace=True)\n",
    "###############################\n",
    "raw_data['Age'].unique()\n",
    "raw_data[\"Age\"].replace({\"From 20 to 29\": 0, \"From 30 to 39\": 1, \"40 and above\": 2, \"Below 20\": 3}, inplace=True)\n",
    "###############################\n",
    "raw_data['Annual_Income'].unique()\n",
    "raw_data[\"Annual_Income\"].replace({\"Less than RM25,000\": 0, \"RM50,000 - RM100,000\": 1, \"RM25,000 - RM50,000\": 2, \"RM100,000 - RM150,000\": 3, \"More than RM150,000\": 4}, inplace=True)\n",
    "###############################\n",
    "raw_data['Visit_Duration'].unique()\n",
    "raw_data[\"Visit_Duration\"].replace({\"Between 30 minutes to 1 hour\": 0, \"Below 30 minutes\": 1, \"More than 3 hours\": 2, \"Between 1 hour to 2 hours\": 3, \"Between 2 hours to 3 hours\": 4}, inplace=True)\n",
    "###############################\n",
    "raw_data['Distance'].unique()\n",
    "raw_data[\"Distance\"].replace({\"within 1km\": 0, \"1km - 3km\": 1, \"more than 3km\": 2}, inplace=True)\n",
    "###############################\n",
    "raw_data['Spending'].unique()\n",
    "raw_data[\"Spending\"].replace({\"Less than RM20\": 0, \"Around RM20 - RM40\": 1, \"More than RM40\": 2, \"Zero\": 3}, inplace=True)\n",
    "###############################"
   ]
  },
  {
   "cell_type": "code",
   "execution_count": 12,
   "id": "86281dec",
   "metadata": {
    "scrolled": false
   },
   "outputs": [
    {
     "data": {
      "text/html": [
       "<div>\n",
       "<style scoped>\n",
       "    .dataframe tbody tr th:only-of-type {\n",
       "        vertical-align: middle;\n",
       "    }\n",
       "\n",
       "    .dataframe tbody tr th {\n",
       "        vertical-align: top;\n",
       "    }\n",
       "\n",
       "    .dataframe thead th {\n",
       "        text-align: right;\n",
       "    }\n",
       "</style>\n",
       "<table border=\"1\" class=\"dataframe\">\n",
       "  <thead>\n",
       "    <tr style=\"text-align: right;\">\n",
       "      <th></th>\n",
       "      <th>Timestamp</th>\n",
       "      <th>Gender</th>\n",
       "      <th>Age</th>\n",
       "      <th>Work_Status</th>\n",
       "      <th>Annual_Income</th>\n",
       "      <th>Visit</th>\n",
       "      <th>Visit_Type</th>\n",
       "      <th>Visit_Duration</th>\n",
       "      <th>Distance</th>\n",
       "      <th>Membership</th>\n",
       "      <th>...</th>\n",
       "      <th>Spending</th>\n",
       "      <th>Product_Rating</th>\n",
       "      <th>Price_Rating</th>\n",
       "      <th>Promo_Rating</th>\n",
       "      <th>Ambiance_Rating</th>\n",
       "      <th>Wifi_Rating</th>\n",
       "      <th>Service_Rating</th>\n",
       "      <th>Hangout_Rating</th>\n",
       "      <th>promotion</th>\n",
       "      <th>Loyality</th>\n",
       "    </tr>\n",
       "  </thead>\n",
       "  <tbody>\n",
       "    <tr>\n",
       "      <th>0</th>\n",
       "      <td>2019/10/01 12:38:43 PM GMT+8</td>\n",
       "      <td>0</td>\n",
       "      <td>0</td>\n",
       "      <td>0</td>\n",
       "      <td>0</td>\n",
       "      <td>0</td>\n",
       "      <td>Dine in</td>\n",
       "      <td>0</td>\n",
       "      <td>0</td>\n",
       "      <td>1</td>\n",
       "      <td>...</td>\n",
       "      <td>0</td>\n",
       "      <td>4</td>\n",
       "      <td>3</td>\n",
       "      <td>5</td>\n",
       "      <td>5</td>\n",
       "      <td>4</td>\n",
       "      <td>4</td>\n",
       "      <td>3</td>\n",
       "      <td>Starbucks Website/Apps;Social Media;Emails;Dea...</td>\n",
       "      <td>1</td>\n",
       "    </tr>\n",
       "    <tr>\n",
       "      <th>1</th>\n",
       "      <td>2019/10/01 12:38:54 PM GMT+8</td>\n",
       "      <td>0</td>\n",
       "      <td>0</td>\n",
       "      <td>0</td>\n",
       "      <td>0</td>\n",
       "      <td>0</td>\n",
       "      <td>Take away</td>\n",
       "      <td>1</td>\n",
       "      <td>1</td>\n",
       "      <td>1</td>\n",
       "      <td>...</td>\n",
       "      <td>0</td>\n",
       "      <td>4</td>\n",
       "      <td>3</td>\n",
       "      <td>4</td>\n",
       "      <td>4</td>\n",
       "      <td>4</td>\n",
       "      <td>5</td>\n",
       "      <td>2</td>\n",
       "      <td>Social Media;In Store displays</td>\n",
       "      <td>1</td>\n",
       "    </tr>\n",
       "    <tr>\n",
       "      <th>2</th>\n",
       "      <td>2019/10/01 12:38:56 PM GMT+8</td>\n",
       "      <td>1</td>\n",
       "      <td>0</td>\n",
       "      <td>1</td>\n",
       "      <td>0</td>\n",
       "      <td>1</td>\n",
       "      <td>Dine in</td>\n",
       "      <td>0</td>\n",
       "      <td>2</td>\n",
       "      <td>1</td>\n",
       "      <td>...</td>\n",
       "      <td>0</td>\n",
       "      <td>4</td>\n",
       "      <td>3</td>\n",
       "      <td>4</td>\n",
       "      <td>4</td>\n",
       "      <td>4</td>\n",
       "      <td>4</td>\n",
       "      <td>3</td>\n",
       "      <td>In Store displays;Billboards</td>\n",
       "      <td>1</td>\n",
       "    </tr>\n",
       "    <tr>\n",
       "      <th>3</th>\n",
       "      <td>2019/10/01 12:39:08 PM GMT+8</td>\n",
       "      <td>0</td>\n",
       "      <td>0</td>\n",
       "      <td>0</td>\n",
       "      <td>0</td>\n",
       "      <td>0</td>\n",
       "      <td>Take away</td>\n",
       "      <td>1</td>\n",
       "      <td>2</td>\n",
       "      <td>0</td>\n",
       "      <td>...</td>\n",
       "      <td>0</td>\n",
       "      <td>2</td>\n",
       "      <td>1</td>\n",
       "      <td>4</td>\n",
       "      <td>3</td>\n",
       "      <td>3</td>\n",
       "      <td>3</td>\n",
       "      <td>3</td>\n",
       "      <td>Through friends and word of mouth</td>\n",
       "      <td>0</td>\n",
       "    </tr>\n",
       "    <tr>\n",
       "      <th>4</th>\n",
       "      <td>2019/10/01 12:39:20 PM GMT+8</td>\n",
       "      <td>1</td>\n",
       "      <td>0</td>\n",
       "      <td>0</td>\n",
       "      <td>0</td>\n",
       "      <td>1</td>\n",
       "      <td>Take away</td>\n",
       "      <td>0</td>\n",
       "      <td>1</td>\n",
       "      <td>0</td>\n",
       "      <td>...</td>\n",
       "      <td>1</td>\n",
       "      <td>3</td>\n",
       "      <td>3</td>\n",
       "      <td>4</td>\n",
       "      <td>2</td>\n",
       "      <td>2</td>\n",
       "      <td>3</td>\n",
       "      <td>3</td>\n",
       "      <td>Starbucks Website/Apps;Social Media</td>\n",
       "      <td>1</td>\n",
       "    </tr>\n",
       "  </tbody>\n",
       "</table>\n",
       "<p>5 rows × 21 columns</p>\n",
       "</div>"
      ],
      "text/plain": [
       "                      Timestamp  Gender  Age  Work_Status  Annual_Income  \\\n",
       "0  2019/10/01 12:38:43 PM GMT+8       0    0            0              0   \n",
       "1  2019/10/01 12:38:54 PM GMT+8       0    0            0              0   \n",
       "2  2019/10/01 12:38:56 PM GMT+8       1    0            1              0   \n",
       "3  2019/10/01 12:39:08 PM GMT+8       0    0            0              0   \n",
       "4  2019/10/01 12:39:20 PM GMT+8       1    0            0              0   \n",
       "\n",
       "   Visit Visit_Type  Visit_Duration  Distance  Membership  ... Spending  \\\n",
       "0      0    Dine in               0         0           1  ...        0   \n",
       "1      0  Take away               1         1           1  ...        0   \n",
       "2      1    Dine in               0         2           1  ...        0   \n",
       "3      0  Take away               1         2           0  ...        0   \n",
       "4      1  Take away               0         1           0  ...        1   \n",
       "\n",
       "   Product_Rating  Price_Rating  Promo_Rating  Ambiance_Rating  Wifi_Rating  \\\n",
       "0               4             3             5                5            4   \n",
       "1               4             3             4                4            4   \n",
       "2               4             3             4                4            4   \n",
       "3               2             1             4                3            3   \n",
       "4               3             3             4                2            2   \n",
       "\n",
       "   Service_Rating  Hangout_Rating  \\\n",
       "0               4               3   \n",
       "1               5               2   \n",
       "2               4               3   \n",
       "3               3               3   \n",
       "4               3               3   \n",
       "\n",
       "                                           promotion Loyality  \n",
       "0  Starbucks Website/Apps;Social Media;Emails;Dea...        1  \n",
       "1                     Social Media;In Store displays        1  \n",
       "2                       In Store displays;Billboards        1  \n",
       "3                  Through friends and word of mouth        0  \n",
       "4                Starbucks Website/Apps;Social Media        1  \n",
       "\n",
       "[5 rows x 21 columns]"
      ]
     },
     "execution_count": 12,
     "metadata": {},
     "output_type": "execute_result"
    }
   ],
   "source": [
    "raw_data.head()"
   ]
  },
  {
   "cell_type": "markdown",
   "id": "842e5c12",
   "metadata": {},
   "source": [
    "#### Deleting unnessessary features"
   ]
  },
  {
   "cell_type": "code",
   "execution_count": 13,
   "id": "33003676",
   "metadata": {},
   "outputs": [],
   "source": [
    "raw_data.drop('Timestamp', inplace=True, axis=1);\n",
    "raw_data.drop('promotion', inplace=True, axis=1);\n",
    "raw_data.drop('favourite', inplace=True, axis=1);\n",
    "raw_data.drop('Visit_Type', inplace=True, axis=1);"
   ]
  },
  {
   "cell_type": "code",
   "execution_count": 14,
   "id": "3bceb29e",
   "metadata": {},
   "outputs": [
    {
     "data": {
      "text/html": [
       "<div>\n",
       "<style scoped>\n",
       "    .dataframe tbody tr th:only-of-type {\n",
       "        vertical-align: middle;\n",
       "    }\n",
       "\n",
       "    .dataframe tbody tr th {\n",
       "        vertical-align: top;\n",
       "    }\n",
       "\n",
       "    .dataframe thead th {\n",
       "        text-align: right;\n",
       "    }\n",
       "</style>\n",
       "<table border=\"1\" class=\"dataframe\">\n",
       "  <thead>\n",
       "    <tr style=\"text-align: right;\">\n",
       "      <th></th>\n",
       "      <th>Gender</th>\n",
       "      <th>Age</th>\n",
       "      <th>Work_Status</th>\n",
       "      <th>Annual_Income</th>\n",
       "      <th>Visit</th>\n",
       "      <th>Visit_Duration</th>\n",
       "      <th>Distance</th>\n",
       "      <th>Membership</th>\n",
       "      <th>Spending</th>\n",
       "      <th>Product_Rating</th>\n",
       "      <th>Price_Rating</th>\n",
       "      <th>Promo_Rating</th>\n",
       "      <th>Ambiance_Rating</th>\n",
       "      <th>Wifi_Rating</th>\n",
       "      <th>Service_Rating</th>\n",
       "      <th>Hangout_Rating</th>\n",
       "      <th>Loyality</th>\n",
       "    </tr>\n",
       "  </thead>\n",
       "  <tbody>\n",
       "    <tr>\n",
       "      <th>0</th>\n",
       "      <td>0</td>\n",
       "      <td>0</td>\n",
       "      <td>0</td>\n",
       "      <td>0</td>\n",
       "      <td>0</td>\n",
       "      <td>0</td>\n",
       "      <td>0</td>\n",
       "      <td>1</td>\n",
       "      <td>0</td>\n",
       "      <td>4</td>\n",
       "      <td>3</td>\n",
       "      <td>5</td>\n",
       "      <td>5</td>\n",
       "      <td>4</td>\n",
       "      <td>4</td>\n",
       "      <td>3</td>\n",
       "      <td>1</td>\n",
       "    </tr>\n",
       "    <tr>\n",
       "      <th>1</th>\n",
       "      <td>0</td>\n",
       "      <td>0</td>\n",
       "      <td>0</td>\n",
       "      <td>0</td>\n",
       "      <td>0</td>\n",
       "      <td>1</td>\n",
       "      <td>1</td>\n",
       "      <td>1</td>\n",
       "      <td>0</td>\n",
       "      <td>4</td>\n",
       "      <td>3</td>\n",
       "      <td>4</td>\n",
       "      <td>4</td>\n",
       "      <td>4</td>\n",
       "      <td>5</td>\n",
       "      <td>2</td>\n",
       "      <td>1</td>\n",
       "    </tr>\n",
       "    <tr>\n",
       "      <th>2</th>\n",
       "      <td>1</td>\n",
       "      <td>0</td>\n",
       "      <td>1</td>\n",
       "      <td>0</td>\n",
       "      <td>1</td>\n",
       "      <td>0</td>\n",
       "      <td>2</td>\n",
       "      <td>1</td>\n",
       "      <td>0</td>\n",
       "      <td>4</td>\n",
       "      <td>3</td>\n",
       "      <td>4</td>\n",
       "      <td>4</td>\n",
       "      <td>4</td>\n",
       "      <td>4</td>\n",
       "      <td>3</td>\n",
       "      <td>1</td>\n",
       "    </tr>\n",
       "    <tr>\n",
       "      <th>3</th>\n",
       "      <td>0</td>\n",
       "      <td>0</td>\n",
       "      <td>0</td>\n",
       "      <td>0</td>\n",
       "      <td>0</td>\n",
       "      <td>1</td>\n",
       "      <td>2</td>\n",
       "      <td>0</td>\n",
       "      <td>0</td>\n",
       "      <td>2</td>\n",
       "      <td>1</td>\n",
       "      <td>4</td>\n",
       "      <td>3</td>\n",
       "      <td>3</td>\n",
       "      <td>3</td>\n",
       "      <td>3</td>\n",
       "      <td>0</td>\n",
       "    </tr>\n",
       "    <tr>\n",
       "      <th>4</th>\n",
       "      <td>1</td>\n",
       "      <td>0</td>\n",
       "      <td>0</td>\n",
       "      <td>0</td>\n",
       "      <td>1</td>\n",
       "      <td>0</td>\n",
       "      <td>1</td>\n",
       "      <td>0</td>\n",
       "      <td>1</td>\n",
       "      <td>3</td>\n",
       "      <td>3</td>\n",
       "      <td>4</td>\n",
       "      <td>2</td>\n",
       "      <td>2</td>\n",
       "      <td>3</td>\n",
       "      <td>3</td>\n",
       "      <td>1</td>\n",
       "    </tr>\n",
       "  </tbody>\n",
       "</table>\n",
       "</div>"
      ],
      "text/plain": [
       "   Gender  Age  Work_Status  Annual_Income  Visit  Visit_Duration  Distance  \\\n",
       "0       0    0            0              0      0               0         0   \n",
       "1       0    0            0              0      0               1         1   \n",
       "2       1    0            1              0      1               0         2   \n",
       "3       0    0            0              0      0               1         2   \n",
       "4       1    0            0              0      1               0         1   \n",
       "\n",
       "   Membership  Spending  Product_Rating  Price_Rating  Promo_Rating  \\\n",
       "0           1         0               4             3             5   \n",
       "1           1         0               4             3             4   \n",
       "2           1         0               4             3             4   \n",
       "3           0         0               2             1             4   \n",
       "4           0         1               3             3             4   \n",
       "\n",
       "   Ambiance_Rating  Wifi_Rating  Service_Rating  Hangout_Rating  Loyality  \n",
       "0                5            4               4               3         1  \n",
       "1                4            4               5               2         1  \n",
       "2                4            4               4               3         1  \n",
       "3                3            3               3               3         0  \n",
       "4                2            2               3               3         1  "
      ]
     },
     "execution_count": 14,
     "metadata": {},
     "output_type": "execute_result"
    }
   ],
   "source": [
    "raw_data.head()"
   ]
  },
  {
   "cell_type": "code",
   "execution_count": 15,
   "id": "8921cb8f",
   "metadata": {},
   "outputs": [
    {
     "data": {
      "text/plain": [
       "(121, 17)"
      ]
     },
     "execution_count": 15,
     "metadata": {},
     "output_type": "execute_result"
    }
   ],
   "source": [
    "raw_data.shape"
   ]
  },
  {
   "cell_type": "code",
   "execution_count": 16,
   "id": "d1ec1b50",
   "metadata": {},
   "outputs": [
    {
     "data": {
      "text/plain": [
       "1    94\n",
       "0    27\n",
       "Name: Loyality, dtype: int64"
      ]
     },
     "execution_count": 16,
     "metadata": {},
     "output_type": "execute_result"
    }
   ],
   "source": [
    "#Let's see how many targeted positive(1) and negative(0) samples we have in our dataframe\n",
    "raw_data.Loyality.value_counts()"
   ]
  },
  {
   "cell_type": "code",
   "execution_count": 17,
   "id": "4f7d4791",
   "metadata": {},
   "outputs": [
    {
     "data": {
      "text/plain": [
       "1    0.77686\n",
       "0    0.22314\n",
       "Name: Loyality, dtype: float64"
      ]
     },
     "execution_count": 17,
     "metadata": {},
     "output_type": "execute_result"
    }
   ],
   "source": [
    "#Normalized value counts\n",
    "raw_data.Loyality.value_counts(normalize=True)"
   ]
  },
  {
   "cell_type": "code",
   "execution_count": 18,
   "id": "51c95588",
   "metadata": {},
   "outputs": [
    {
     "data": {
      "image/png": "[encoded data removed]",
      "text/plain": [
       "<Figure size 432x288 with 1 Axes>"
      ]
     },
     "metadata": {
      "needs_background": "light"
     },
     "output_type": "display_data"
    }
   ],
   "source": [
    "#Ploting the value counts with a bar graph\n",
    "raw_data.Loyality.value_counts().plot(kind='bar', color=['black', 'gray']);"
   ]
  },
  {
   "cell_type": "code",
   "execution_count": 19,
   "id": "4a0867c0",
   "metadata": {},
   "outputs": [
    {
     "data": {
      "text/html": [
       "<div>\n",
       "<style scoped>\n",
       "    .dataframe tbody tr th:only-of-type {\n",
       "        vertical-align: middle;\n",
       "    }\n",
       "\n",
       "    .dataframe tbody tr th {\n",
       "        vertical-align: top;\n",
       "    }\n",
       "\n",
       "    .dataframe thead th {\n",
       "        text-align: right;\n",
       "    }\n",
       "</style>\n",
       "<table border=\"1\" class=\"dataframe\">\n",
       "  <thead>\n",
       "    <tr style=\"text-align: right;\">\n",
       "      <th></th>\n",
       "      <th>Gender</th>\n",
       "      <th>Age</th>\n",
       "      <th>Work_Status</th>\n",
       "      <th>Annual_Income</th>\n",
       "      <th>Visit</th>\n",
       "      <th>Visit_Duration</th>\n",
       "      <th>Distance</th>\n",
       "      <th>Membership</th>\n",
       "      <th>Spending</th>\n",
       "      <th>Product_Rating</th>\n",
       "      <th>Price_Rating</th>\n",
       "      <th>Promo_Rating</th>\n",
       "      <th>Ambiance_Rating</th>\n",
       "      <th>Wifi_Rating</th>\n",
       "      <th>Service_Rating</th>\n",
       "      <th>Hangout_Rating</th>\n",
       "      <th>Loyality</th>\n",
       "    </tr>\n",
       "  </thead>\n",
       "  <tbody>\n",
       "    <tr>\n",
       "      <th>count</th>\n",
       "      <td>121.000000</td>\n",
       "      <td>121.000000</td>\n",
       "      <td>121.000000</td>\n",
       "      <td>121.000000</td>\n",
       "      <td>121.000000</td>\n",
       "      <td>121.000000</td>\n",
       "      <td>121.000000</td>\n",
       "      <td>121.000000</td>\n",
       "      <td>121.000000</td>\n",
       "      <td>121.000000</td>\n",
       "      <td>121.000000</td>\n",
       "      <td>121.000000</td>\n",
       "      <td>121.000000</td>\n",
       "      <td>121.000000</td>\n",
       "      <td>121.000000</td>\n",
       "      <td>121.000000</td>\n",
       "      <td>121.000000</td>\n",
       "    </tr>\n",
       "    <tr>\n",
       "      <th>mean</th>\n",
       "      <td>0.462810</td>\n",
       "      <td>0.578512</td>\n",
       "      <td>0.826446</td>\n",
       "      <td>0.826446</td>\n",
       "      <td>0.628099</td>\n",
       "      <td>0.958678</td>\n",
       "      <td>1.272727</td>\n",
       "      <td>0.495868</td>\n",
       "      <td>0.760331</td>\n",
       "      <td>3.685950</td>\n",
       "      <td>2.909091</td>\n",
       "      <td>3.818182</td>\n",
       "      <td>3.760331</td>\n",
       "      <td>3.256198</td>\n",
       "      <td>3.752066</td>\n",
       "      <td>3.520661</td>\n",
       "      <td>0.776860</td>\n",
       "    </tr>\n",
       "    <tr>\n",
       "      <th>std</th>\n",
       "      <td>0.500688</td>\n",
       "      <td>1.006248</td>\n",
       "      <td>0.726610</td>\n",
       "      <td>1.145118</td>\n",
       "      <td>0.992742</td>\n",
       "      <td>0.879362</td>\n",
       "      <td>0.806226</td>\n",
       "      <td>0.502062</td>\n",
       "      <td>0.922179</td>\n",
       "      <td>0.913173</td>\n",
       "      <td>1.072381</td>\n",
       "      <td>1.064581</td>\n",
       "      <td>0.931171</td>\n",
       "      <td>0.962020</td>\n",
       "      <td>0.829468</td>\n",
       "      <td>1.033595</td>\n",
       "      <td>0.418083</td>\n",
       "    </tr>\n",
       "    <tr>\n",
       "      <th>min</th>\n",
       "      <td>0.000000</td>\n",
       "      <td>0.000000</td>\n",
       "      <td>0.000000</td>\n",
       "      <td>0.000000</td>\n",
       "      <td>0.000000</td>\n",
       "      <td>0.000000</td>\n",
       "      <td>0.000000</td>\n",
       "      <td>0.000000</td>\n",
       "      <td>0.000000</td>\n",
       "      <td>1.000000</td>\n",
       "      <td>1.000000</td>\n",
       "      <td>1.000000</td>\n",
       "      <td>1.000000</td>\n",
       "      <td>1.000000</td>\n",
       "      <td>1.000000</td>\n",
       "      <td>1.000000</td>\n",
       "      <td>0.000000</td>\n",
       "    </tr>\n",
       "    <tr>\n",
       "      <th>25%</th>\n",
       "      <td>0.000000</td>\n",
       "      <td>0.000000</td>\n",
       "      <td>0.000000</td>\n",
       "      <td>0.000000</td>\n",
       "      <td>0.000000</td>\n",
       "      <td>0.000000</td>\n",
       "      <td>1.000000</td>\n",
       "      <td>0.000000</td>\n",
       "      <td>0.000000</td>\n",
       "      <td>3.000000</td>\n",
       "      <td>2.000000</td>\n",
       "      <td>3.000000</td>\n",
       "      <td>3.000000</td>\n",
       "      <td>3.000000</td>\n",
       "      <td>3.000000</td>\n",
       "      <td>3.000000</td>\n",
       "      <td>1.000000</td>\n",
       "    </tr>\n",
       "    <tr>\n",
       "      <th>50%</th>\n",
       "      <td>0.000000</td>\n",
       "      <td>0.000000</td>\n",
       "      <td>1.000000</td>\n",
       "      <td>0.000000</td>\n",
       "      <td>0.000000</td>\n",
       "      <td>1.000000</td>\n",
       "      <td>1.000000</td>\n",
       "      <td>0.000000</td>\n",
       "      <td>1.000000</td>\n",
       "      <td>4.000000</td>\n",
       "      <td>3.000000</td>\n",
       "      <td>4.000000</td>\n",
       "      <td>4.000000</td>\n",
       "      <td>3.000000</td>\n",
       "      <td>4.000000</td>\n",
       "      <td>4.000000</td>\n",
       "      <td>1.000000</td>\n",
       "    </tr>\n",
       "    <tr>\n",
       "      <th>75%</th>\n",
       "      <td>1.000000</td>\n",
       "      <td>1.000000</td>\n",
       "      <td>1.000000</td>\n",
       "      <td>2.000000</td>\n",
       "      <td>1.000000</td>\n",
       "      <td>1.000000</td>\n",
       "      <td>2.000000</td>\n",
       "      <td>1.000000</td>\n",
       "      <td>1.000000</td>\n",
       "      <td>4.000000</td>\n",
       "      <td>4.000000</td>\n",
       "      <td>5.000000</td>\n",
       "      <td>4.000000</td>\n",
       "      <td>4.000000</td>\n",
       "      <td>4.000000</td>\n",
       "      <td>4.000000</td>\n",
       "      <td>1.000000</td>\n",
       "    </tr>\n",
       "    <tr>\n",
       "      <th>max</th>\n",
       "      <td>1.000000</td>\n",
       "      <td>3.000000</td>\n",
       "      <td>3.000000</td>\n",
       "      <td>4.000000</td>\n",
       "      <td>4.000000</td>\n",
       "      <td>4.000000</td>\n",
       "      <td>2.000000</td>\n",
       "      <td>1.000000</td>\n",
       "      <td>3.000000</td>\n",
       "      <td>5.000000</td>\n",
       "      <td>5.000000</td>\n",
       "      <td>5.000000</td>\n",
       "      <td>5.000000</td>\n",
       "      <td>5.000000</td>\n",
       "      <td>5.000000</td>\n",
       "      <td>5.000000</td>\n",
       "      <td>1.000000</td>\n",
       "    </tr>\n",
       "  </tbody>\n",
       "</table>\n",
       "</div>"
      ],
      "text/plain": [
       "           Gender         Age  Work_Status  Annual_Income       Visit  \\\n",
       "count  121.000000  121.000000   121.000000     121.000000  121.000000   \n",
       "mean     0.462810    0.578512     0.826446       0.826446    0.628099   \n",
       "std      0.500688    1.006248     0.726610       1.145118    0.992742   \n",
       "min      0.000000    0.000000     0.000000       0.000000    0.000000   \n",
       "25%      0.000000    0.000000     0.000000       0.000000    0.000000   \n",
       "50%      0.000000    0.000000     1.000000       0.000000    0.000000   \n",
       "75%      1.000000    1.000000     1.000000       2.000000    1.000000   \n",
       "max      1.000000    3.000000     3.000000       4.000000    4.000000   \n",
       "\n",
       "       Visit_Duration    Distance  Membership    Spending  Product_Rating  \\\n",
       "count      121.000000  121.000000  121.000000  121.000000      121.000000   \n",
       "mean         0.958678    1.272727    0.495868    0.760331        3.685950   \n",
       "std          0.879362    0.806226    0.502062    0.922179        0.913173   \n",
       "min          0.000000    0.000000    0.000000    0.000000        1.000000   \n",
       "25%          0.000000    1.000000    0.000000    0.000000        3.000000   \n",
       "50%          1.000000    1.000000    0.000000    1.000000        4.000000   \n",
       "75%          1.000000    2.000000    1.000000    1.000000        4.000000   \n",
       "max          4.000000    2.000000    1.000000    3.000000        5.000000   \n",
       "\n",
       "       Price_Rating  Promo_Rating  Ambiance_Rating  Wifi_Rating  \\\n",
       "count    121.000000    121.000000       121.000000   121.000000   \n",
       "mean       2.909091      3.818182         3.760331     3.256198   \n",
       "std        1.072381      1.064581         0.931171     0.962020   \n",
       "min        1.000000      1.000000         1.000000     1.000000   \n",
       "25%        2.000000      3.000000         3.000000     3.000000   \n",
       "50%        3.000000      4.000000         4.000000     3.000000   \n",
       "75%        4.000000      5.000000         4.000000     4.000000   \n",
       "max        5.000000      5.000000         5.000000     5.000000   \n",
       "\n",
       "       Service_Rating  Hangout_Rating    Loyality  \n",
       "count      121.000000      121.000000  121.000000  \n",
       "mean         3.752066        3.520661    0.776860  \n",
       "std          0.829468        1.033595    0.418083  \n",
       "min          1.000000        1.000000    0.000000  \n",
       "25%          3.000000        3.000000    1.000000  \n",
       "50%          4.000000        4.000000    1.000000  \n",
       "75%          4.000000        4.000000    1.000000  \n",
       "max          5.000000        5.000000    1.000000  "
      ]
     },
     "execution_count": 19,
     "metadata": {},
     "output_type": "execute_result"
    }
   ],
   "source": [
    "raw_data.describe()"
   ]
  },
  {
   "cell_type": "markdown",
   "id": "931aa890",
   "metadata": {},
   "source": [
    "### Let's compare two columns to each other to see how the dependent variable interacts with the independent variable"
   ]
  },
  {
   "cell_type": "code",
   "execution_count": 20,
   "id": "e34f5cc2",
   "metadata": {},
   "outputs": [
    {
     "data": {
      "text/plain": [
       "0    65\n",
       "1    56\n",
       "Name: Gender, dtype: int64"
      ]
     },
     "execution_count": 20,
     "metadata": {},
     "output_type": "execute_result"
    }
   ],
   "source": [
    "raw_data.Gender.value_counts()"
   ]
  },
  {
   "cell_type": "code",
   "execution_count": 21,
   "id": "6fd3503e",
   "metadata": {},
   "outputs": [
    {
     "data": {
      "text/html": [
       "<div>\n",
       "<style scoped>\n",
       "    .dataframe tbody tr th:only-of-type {\n",
       "        vertical-align: middle;\n",
       "    }\n",
       "\n",
       "    .dataframe tbody tr th {\n",
       "        vertical-align: top;\n",
       "    }\n",
       "\n",
       "    .dataframe thead th {\n",
       "        text-align: right;\n",
       "    }\n",
       "</style>\n",
       "<table border=\"1\" class=\"dataframe\">\n",
       "  <thead>\n",
       "    <tr style=\"text-align: right;\">\n",
       "      <th>Gender</th>\n",
       "      <th>0</th>\n",
       "      <th>1</th>\n",
       "    </tr>\n",
       "    <tr>\n",
       "      <th>Loyality</th>\n",
       "      <th></th>\n",
       "      <th></th>\n",
       "    </tr>\n",
       "  </thead>\n",
       "  <tbody>\n",
       "    <tr>\n",
       "      <th>0</th>\n",
       "      <td>15</td>\n",
       "      <td>12</td>\n",
       "    </tr>\n",
       "    <tr>\n",
       "      <th>1</th>\n",
       "      <td>50</td>\n",
       "      <td>44</td>\n",
       "    </tr>\n",
       "  </tbody>\n",
       "</table>\n",
       "</div>"
      ],
      "text/plain": [
       "Gender     0   1\n",
       "Loyality        \n",
       "0         15  12\n",
       "1         50  44"
      ]
     },
     "execution_count": 21,
     "metadata": {},
     "output_type": "execute_result"
    }
   ],
   "source": [
    "#compare target column with business_type column\n",
    "pd.crosstab(raw_data.Loyality, raw_data.Gender)"
   ]
  },
  {
   "cell_type": "code",
   "execution_count": 22,
   "id": "d06ee2e6",
   "metadata": {
    "scrolled": false
   },
   "outputs": [
    {
     "data": {
      "image/png": "[encoded data removed]",
      "text/plain": [
       "<Figure size 576x504 with 1 Axes>"
      ]
     },
     "metadata": {
      "needs_background": "light"
     },
     "output_type": "display_data"
    }
   ],
   "source": [
    "#making our crosstab visual\n",
    "#--------------------------\n",
    "pd.crosstab(raw_data.Loyality, raw_data.Gender).plot(kind='bar',figsize=(8,7),color=['teal','gray']);"
   ]
  },
  {
   "cell_type": "markdown",
   "id": "4abb9656",
   "metadata": {},
   "source": [
    "#### Let's try combining a couple of independent variables, such as Age, Membership and then comparing them to our target variable. we'll use a scatter plot."
   ]
  },
  {
   "cell_type": "code",
   "execution_count": 23,
   "id": "803cb145",
   "metadata": {},
   "outputs": [
    {
     "data": {
      "image/png": "[encoded data removed]",
      "text/plain": [
       "<Figure size 720x432 with 1 Axes>"
      ]
     },
     "metadata": {
      "needs_background": "light"
     },
     "output_type": "display_data"
    }
   ],
   "source": [
    "# Create another figure\n",
    "plt.figure(figsize=(10,6))\n",
    "\n",
    "# Start with positve examples\n",
    "plt.scatter(raw_data.Visit[raw_data.Loyality==1], \n",
    "            raw_data.Price_Rating[raw_data.Loyality==1],\n",
    "            c=\"red\")\n",
    "\n",
    "# Now for negative examples, we want them on the same plot, so we call plt again\n",
    "plt.scatter(raw_data.Visit[raw_data.Loyality==0], \n",
    "            raw_data.Price_Rating[raw_data.Loyality==0], \n",
    "            c=\"black\") # axis always come as (x, y)\n",
    "\n",
    "# Add some helpful info\n",
    "plt.title(\"Probability based on the Visit & Price_Rating\")\n",
    "plt.xlabel(\"Visit\")\n",
    "plt.legend([\"Styed\", \"Leaved\"])\n",
    "plt.ylabel(\"Price_Rating\");"
   ]
  },
  {
   "cell_type": "markdown",
   "id": "c7270bed",
   "metadata": {},
   "source": [
    "#### As histograms are a great way to check the distribution of a variable, so let's apply it on another independent variable."
   ]
  },
  {
   "cell_type": "code",
   "execution_count": 24,
   "id": "61b07724",
   "metadata": {
    "scrolled": true
   },
   "outputs": [
    {
     "data": {
      "image/png": "[encoded data removed]",
      "text/plain": [
       "<Figure size 432x288 with 1 Axes>"
      ]
     },
     "metadata": {
      "needs_background": "light"
     },
     "output_type": "display_data"
    }
   ],
   "source": [
    "raw_data.Work_Status.plot.hist();"
   ]
  },
  {
   "cell_type": "markdown",
   "id": "f27cf267",
   "metadata": {},
   "source": [
    "### Let's find the Correlation"
   ]
  },
  {
   "cell_type": "code",
   "execution_count": 25,
   "id": "70a1b033",
   "metadata": {},
   "outputs": [
    {
     "data": {
      "text/html": [
       "<div>\n",
       "<style scoped>\n",
       "    .dataframe tbody tr th:only-of-type {\n",
       "        vertical-align: middle;\n",
       "    }\n",
       "\n",
       "    .dataframe tbody tr th {\n",
       "        vertical-align: top;\n",
       "    }\n",
       "\n",
       "    .dataframe thead th {\n",
       "        text-align: right;\n",
       "    }\n",
       "</style>\n",
       "<table border=\"1\" class=\"dataframe\">\n",
       "  <thead>\n",
       "    <tr style=\"text-align: right;\">\n",
       "      <th></th>\n",
       "      <th>Gender</th>\n",
       "      <th>Age</th>\n",
       "      <th>Work_Status</th>\n",
       "      <th>Annual_Income</th>\n",
       "      <th>Visit</th>\n",
       "      <th>Visit_Duration</th>\n",
       "      <th>Distance</th>\n",
       "      <th>Membership</th>\n",
       "      <th>Spending</th>\n",
       "      <th>Product_Rating</th>\n",
       "      <th>Price_Rating</th>\n",
       "      <th>Promo_Rating</th>\n",
       "      <th>Ambiance_Rating</th>\n",
       "      <th>Wifi_Rating</th>\n",
       "      <th>Service_Rating</th>\n",
       "      <th>Hangout_Rating</th>\n",
       "      <th>Loyality</th>\n",
       "    </tr>\n",
       "  </thead>\n",
       "  <tbody>\n",
       "    <tr>\n",
       "      <th>Gender</th>\n",
       "      <td>1.000000</td>\n",
       "      <td>0.158843</td>\n",
       "      <td>0.062282</td>\n",
       "      <td>0.213934</td>\n",
       "      <td>0.080917</td>\n",
       "      <td>0.138434</td>\n",
       "      <td>0.118234</td>\n",
       "      <td>0.073973</td>\n",
       "      <td>0.043704</td>\n",
       "      <td>0.010695</td>\n",
       "      <td>0.001411</td>\n",
       "      <td>-0.106596</td>\n",
       "      <td>-0.117584</td>\n",
       "      <td>-0.075209</td>\n",
       "      <td>-0.122715</td>\n",
       "      <td>0.061883</td>\n",
       "      <td>0.019740</td>\n",
       "    </tr>\n",
       "    <tr>\n",
       "      <th>Age</th>\n",
       "      <td>0.158843</td>\n",
       "      <td>1.000000</td>\n",
       "      <td>-0.180666</td>\n",
       "      <td>-0.013388</td>\n",
       "      <td>0.183803</td>\n",
       "      <td>0.102583</td>\n",
       "      <td>0.204507</td>\n",
       "      <td>-0.160180</td>\n",
       "      <td>-0.010984</td>\n",
       "      <td>-0.090840</td>\n",
       "      <td>0.141815</td>\n",
       "      <td>-0.126589</td>\n",
       "      <td>-0.117603</td>\n",
       "      <td>0.060829</td>\n",
       "      <td>-0.076326</td>\n",
       "      <td>0.148660</td>\n",
       "      <td>0.051895</td>\n",
       "    </tr>\n",
       "    <tr>\n",
       "      <th>Work_Status</th>\n",
       "      <td>0.062282</td>\n",
       "      <td>-0.180666</td>\n",
       "      <td>1.000000</td>\n",
       "      <td>0.414190</td>\n",
       "      <td>0.048407</td>\n",
       "      <td>0.093020</td>\n",
       "      <td>-0.046555</td>\n",
       "      <td>0.237873</td>\n",
       "      <td>0.161265</td>\n",
       "      <td>0.105560</td>\n",
       "      <td>0.107919</td>\n",
       "      <td>-0.041133</td>\n",
       "      <td>0.159708</td>\n",
       "      <td>-0.055076</td>\n",
       "      <td>0.232197</td>\n",
       "      <td>0.154611</td>\n",
       "      <td>0.200638</td>\n",
       "    </tr>\n",
       "    <tr>\n",
       "      <th>Annual_Income</th>\n",
       "      <td>0.213934</td>\n",
       "      <td>-0.013388</td>\n",
       "      <td>0.414190</td>\n",
       "      <td>1.000000</td>\n",
       "      <td>0.133342</td>\n",
       "      <td>0.108677</td>\n",
       "      <td>-0.137857</td>\n",
       "      <td>0.266895</td>\n",
       "      <td>0.149676</td>\n",
       "      <td>-0.076465</td>\n",
       "      <td>0.027761</td>\n",
       "      <td>-0.080787</td>\n",
       "      <td>-0.062780</td>\n",
       "      <td>-0.201368</td>\n",
       "      <td>-0.045680</td>\n",
       "      <td>0.041779</td>\n",
       "      <td>-0.011940</td>\n",
       "    </tr>\n",
       "    <tr>\n",
       "      <th>Visit</th>\n",
       "      <td>0.080917</td>\n",
       "      <td>0.183803</td>\n",
       "      <td>0.048407</td>\n",
       "      <td>0.133342</td>\n",
       "      <td>1.000000</td>\n",
       "      <td>0.125437</td>\n",
       "      <td>0.013251</td>\n",
       "      <td>0.005251</td>\n",
       "      <td>0.402472</td>\n",
       "      <td>0.053939</td>\n",
       "      <td>0.116704</td>\n",
       "      <td>-0.143364</td>\n",
       "      <td>-0.115254</td>\n",
       "      <td>-0.073916</td>\n",
       "      <td>-0.143270</td>\n",
       "      <td>0.133433</td>\n",
       "      <td>0.079482</td>\n",
       "    </tr>\n",
       "    <tr>\n",
       "      <th>Visit_Duration</th>\n",
       "      <td>0.138434</td>\n",
       "      <td>0.102583</td>\n",
       "      <td>0.093020</td>\n",
       "      <td>0.108677</td>\n",
       "      <td>0.125437</td>\n",
       "      <td>1.000000</td>\n",
       "      <td>0.051291</td>\n",
       "      <td>-0.009828</td>\n",
       "      <td>0.141830</td>\n",
       "      <td>0.149747</td>\n",
       "      <td>0.102026</td>\n",
       "      <td>0.161040</td>\n",
       "      <td>-0.032550</td>\n",
       "      <td>0.101275</td>\n",
       "      <td>0.008687</td>\n",
       "      <td>0.042206</td>\n",
       "      <td>0.065378</td>\n",
       "    </tr>\n",
       "    <tr>\n",
       "      <th>Distance</th>\n",
       "      <td>0.118234</td>\n",
       "      <td>0.204507</td>\n",
       "      <td>-0.046555</td>\n",
       "      <td>-0.137857</td>\n",
       "      <td>0.013251</td>\n",
       "      <td>0.051291</td>\n",
       "      <td>1.000000</td>\n",
       "      <td>-0.275125</td>\n",
       "      <td>0.066232</td>\n",
       "      <td>-0.131712</td>\n",
       "      <td>-0.154217</td>\n",
       "      <td>-0.116510</td>\n",
       "      <td>-0.067611</td>\n",
       "      <td>-0.101582</td>\n",
       "      <td>-0.184654</td>\n",
       "      <td>-0.071820</td>\n",
       "      <td>-0.089901</td>\n",
       "    </tr>\n",
       "    <tr>\n",
       "      <th>Membership</th>\n",
       "      <td>0.073973</td>\n",
       "      <td>-0.160180</td>\n",
       "      <td>0.237873</td>\n",
       "      <td>0.266895</td>\n",
       "      <td>0.005251</td>\n",
       "      <td>-0.009828</td>\n",
       "      <td>-0.275125</td>\n",
       "      <td>1.000000</td>\n",
       "      <td>-0.065153</td>\n",
       "      <td>0.306145</td>\n",
       "      <td>0.146337</td>\n",
       "      <td>0.092130</td>\n",
       "      <td>0.256328</td>\n",
       "      <td>0.062597</td>\n",
       "      <td>0.277669</td>\n",
       "      <td>0.220973</td>\n",
       "      <td>0.333027</td>\n",
       "    </tr>\n",
       "    <tr>\n",
       "      <th>Spending</th>\n",
       "      <td>0.043704</td>\n",
       "      <td>-0.010984</td>\n",
       "      <td>0.161265</td>\n",
       "      <td>0.149676</td>\n",
       "      <td>0.402472</td>\n",
       "      <td>0.141830</td>\n",
       "      <td>0.066232</td>\n",
       "      <td>-0.065153</td>\n",
       "      <td>1.000000</td>\n",
       "      <td>-0.080230</td>\n",
       "      <td>-0.030642</td>\n",
       "      <td>-0.121152</td>\n",
       "      <td>-0.232427</td>\n",
       "      <td>-0.071110</td>\n",
       "      <td>-0.154593</td>\n",
       "      <td>-0.007876</td>\n",
       "      <td>-0.075025</td>\n",
       "    </tr>\n",
       "    <tr>\n",
       "      <th>Product_Rating</th>\n",
       "      <td>0.010695</td>\n",
       "      <td>-0.090840</td>\n",
       "      <td>0.105560</td>\n",
       "      <td>-0.076465</td>\n",
       "      <td>0.053939</td>\n",
       "      <td>0.149747</td>\n",
       "      <td>-0.131712</td>\n",
       "      <td>0.306145</td>\n",
       "      <td>-0.080230</td>\n",
       "      <td>1.000000</td>\n",
       "      <td>0.515227</td>\n",
       "      <td>0.172221</td>\n",
       "      <td>0.577161</td>\n",
       "      <td>0.291556</td>\n",
       "      <td>0.446439</td>\n",
       "      <td>0.421899</td>\n",
       "      <td>0.382432</td>\n",
       "    </tr>\n",
       "    <tr>\n",
       "      <th>Price_Rating</th>\n",
       "      <td>0.001411</td>\n",
       "      <td>0.141815</td>\n",
       "      <td>0.107919</td>\n",
       "      <td>0.027761</td>\n",
       "      <td>0.116704</td>\n",
       "      <td>0.102026</td>\n",
       "      <td>-0.154217</td>\n",
       "      <td>0.146337</td>\n",
       "      <td>-0.030642</td>\n",
       "      <td>0.515227</td>\n",
       "      <td>1.000000</td>\n",
       "      <td>0.138690</td>\n",
       "      <td>0.386917</td>\n",
       "      <td>0.289327</td>\n",
       "      <td>0.358558</td>\n",
       "      <td>0.418974</td>\n",
       "      <td>0.437637</td>\n",
       "    </tr>\n",
       "    <tr>\n",
       "      <th>Promo_Rating</th>\n",
       "      <td>-0.106596</td>\n",
       "      <td>-0.126589</td>\n",
       "      <td>-0.041133</td>\n",
       "      <td>-0.080787</td>\n",
       "      <td>-0.143364</td>\n",
       "      <td>0.161040</td>\n",
       "      <td>-0.116510</td>\n",
       "      <td>0.092130</td>\n",
       "      <td>-0.121152</td>\n",
       "      <td>0.172221</td>\n",
       "      <td>0.138690</td>\n",
       "      <td>1.000000</td>\n",
       "      <td>0.392808</td>\n",
       "      <td>0.330652</td>\n",
       "      <td>0.382633</td>\n",
       "      <td>0.192777</td>\n",
       "      <td>0.076594</td>\n",
       "    </tr>\n",
       "    <tr>\n",
       "      <th>Ambiance_Rating</th>\n",
       "      <td>-0.117584</td>\n",
       "      <td>-0.117603</td>\n",
       "      <td>0.159708</td>\n",
       "      <td>-0.062780</td>\n",
       "      <td>-0.115254</td>\n",
       "      <td>-0.032550</td>\n",
       "      <td>-0.067611</td>\n",
       "      <td>0.256328</td>\n",
       "      <td>-0.232427</td>\n",
       "      <td>0.577161</td>\n",
       "      <td>0.386917</td>\n",
       "      <td>0.392808</td>\n",
       "      <td>1.000000</td>\n",
       "      <td>0.487734</td>\n",
       "      <td>0.602145</td>\n",
       "      <td>0.347195</td>\n",
       "      <td>0.311000</td>\n",
       "    </tr>\n",
       "    <tr>\n",
       "      <th>Wifi_Rating</th>\n",
       "      <td>-0.075209</td>\n",
       "      <td>0.060829</td>\n",
       "      <td>-0.055076</td>\n",
       "      <td>-0.201368</td>\n",
       "      <td>-0.073916</td>\n",
       "      <td>0.101275</td>\n",
       "      <td>-0.101582</td>\n",
       "      <td>0.062597</td>\n",
       "      <td>-0.071110</td>\n",
       "      <td>0.291556</td>\n",
       "      <td>0.289327</td>\n",
       "      <td>0.330652</td>\n",
       "      <td>0.487734</td>\n",
       "      <td>1.000000</td>\n",
       "      <td>0.581542</td>\n",
       "      <td>0.258627</td>\n",
       "      <td>0.164041</td>\n",
       "    </tr>\n",
       "    <tr>\n",
       "      <th>Service_Rating</th>\n",
       "      <td>-0.122715</td>\n",
       "      <td>-0.076326</td>\n",
       "      <td>0.232197</td>\n",
       "      <td>-0.045680</td>\n",
       "      <td>-0.143270</td>\n",
       "      <td>0.008687</td>\n",
       "      <td>-0.184654</td>\n",
       "      <td>0.277669</td>\n",
       "      <td>-0.154593</td>\n",
       "      <td>0.446439</td>\n",
       "      <td>0.358558</td>\n",
       "      <td>0.382633</td>\n",
       "      <td>0.602145</td>\n",
       "      <td>0.581542</td>\n",
       "      <td>1.000000</td>\n",
       "      <td>0.423987</td>\n",
       "      <td>0.199589</td>\n",
       "    </tr>\n",
       "    <tr>\n",
       "      <th>Hangout_Rating</th>\n",
       "      <td>0.061883</td>\n",
       "      <td>0.148660</td>\n",
       "      <td>0.154611</td>\n",
       "      <td>0.041779</td>\n",
       "      <td>0.133433</td>\n",
       "      <td>0.042206</td>\n",
       "      <td>-0.071820</td>\n",
       "      <td>0.220973</td>\n",
       "      <td>-0.007876</td>\n",
       "      <td>0.421899</td>\n",
       "      <td>0.418974</td>\n",
       "      <td>0.192777</td>\n",
       "      <td>0.347195</td>\n",
       "      <td>0.258627</td>\n",
       "      <td>0.423987</td>\n",
       "      <td>1.000000</td>\n",
       "      <td>0.367519</td>\n",
       "    </tr>\n",
       "    <tr>\n",
       "      <th>Loyality</th>\n",
       "      <td>0.019740</td>\n",
       "      <td>0.051895</td>\n",
       "      <td>0.200638</td>\n",
       "      <td>-0.011940</td>\n",
       "      <td>0.079482</td>\n",
       "      <td>0.065378</td>\n",
       "      <td>-0.089901</td>\n",
       "      <td>0.333027</td>\n",
       "      <td>-0.075025</td>\n",
       "      <td>0.382432</td>\n",
       "      <td>0.437637</td>\n",
       "      <td>0.076594</td>\n",
       "      <td>0.311000</td>\n",
       "      <td>0.164041</td>\n",
       "      <td>0.199589</td>\n",
       "      <td>0.367519</td>\n",
       "      <td>1.000000</td>\n",
       "    </tr>\n",
       "  </tbody>\n",
       "</table>\n",
       "</div>"
      ],
      "text/plain": [
       "                   Gender       Age  Work_Status  Annual_Income     Visit  \\\n",
       "Gender           1.000000  0.158843     0.062282       0.213934  0.080917   \n",
       "Age              0.158843  1.000000    -0.180666      -0.013388  0.183803   \n",
       "Work_Status      0.062282 -0.180666     1.000000       0.414190  0.048407   \n",
       "Annual_Income    0.213934 -0.013388     0.414190       1.000000  0.133342   \n",
       "Visit            0.080917  0.183803     0.048407       0.133342  1.000000   \n",
       "Visit_Duration   0.138434  0.102583     0.093020       0.108677  0.125437   \n",
       "Distance         0.118234  0.204507    -0.046555      -0.137857  0.013251   \n",
       "Membership       0.073973 -0.160180     0.237873       0.266895  0.005251   \n",
       "Spending         0.043704 -0.010984     0.161265       0.149676  0.402472   \n",
       "Product_Rating   0.010695 -0.090840     0.105560      -0.076465  0.053939   \n",
       "Price_Rating     0.001411  0.141815     0.107919       0.027761  0.116704   \n",
       "Promo_Rating    -0.106596 -0.126589    -0.041133      -0.080787 -0.143364   \n",
       "Ambiance_Rating -0.117584 -0.117603     0.159708      -0.062780 -0.115254   \n",
       "Wifi_Rating     -0.075209  0.060829    -0.055076      -0.201368 -0.073916   \n",
       "Service_Rating  -0.122715 -0.076326     0.232197      -0.045680 -0.143270   \n",
       "Hangout_Rating   0.061883  0.148660     0.154611       0.041779  0.133433   \n",
       "Loyality         0.019740  0.051895     0.200638      -0.011940  0.079482   \n",
       "\n",
       "                 Visit_Duration  Distance  Membership  Spending  \\\n",
       "Gender                 0.138434  0.118234    0.073973  0.043704   \n",
       "Age                    0.102583  0.204507   -0.160180 -0.010984   \n",
       "Work_Status            0.093020 -0.046555    0.237873  0.161265   \n",
       "Annual_Income          0.108677 -0.137857    0.266895  0.149676   \n",
       "Visit                  0.125437  0.013251    0.005251  0.402472   \n",
       "Visit_Duration         1.000000  0.051291   -0.009828  0.141830   \n",
       "Distance               0.051291  1.000000   -0.275125  0.066232   \n",
       "Membership            -0.009828 -0.275125    1.000000 -0.065153   \n",
       "Spending               0.141830  0.066232   -0.065153  1.000000   \n",
       "Product_Rating         0.149747 -0.131712    0.306145 -0.080230   \n",
       "Price_Rating           0.102026 -0.154217    0.146337 -0.030642   \n",
       "Promo_Rating           0.161040 -0.116510    0.092130 -0.121152   \n",
       "Ambiance_Rating       -0.032550 -0.067611    0.256328 -0.232427   \n",
       "Wifi_Rating            0.101275 -0.101582    0.062597 -0.071110   \n",
       "Service_Rating         0.008687 -0.184654    0.277669 -0.154593   \n",
       "Hangout_Rating         0.042206 -0.071820    0.220973 -0.007876   \n",
       "Loyality               0.065378 -0.089901    0.333027 -0.075025   \n",
       "\n",
       "                 Product_Rating  Price_Rating  Promo_Rating  Ambiance_Rating  \\\n",
       "Gender                 0.010695      0.001411     -0.106596        -0.117584   \n",
       "Age                   -0.090840      0.141815     -0.126589        -0.117603   \n",
       "Work_Status            0.105560      0.107919     -0.041133         0.159708   \n",
       "Annual_Income         -0.076465      0.027761     -0.080787        -0.062780   \n",
       "Visit                  0.053939      0.116704     -0.143364        -0.115254   \n",
       "Visit_Duration         0.149747      0.102026      0.161040        -0.032550   \n",
       "Distance              -0.131712     -0.154217     -0.116510        -0.067611   \n",
       "Membership             0.306145      0.146337      0.092130         0.256328   \n",
       "Spending              -0.080230     -0.030642     -0.121152        -0.232427   \n",
       "Product_Rating         1.000000      0.515227      0.172221         0.577161   \n",
       "Price_Rating           0.515227      1.000000      0.138690         0.386917   \n",
       "Promo_Rating           0.172221      0.138690      1.000000         0.392808   \n",
       "Ambiance_Rating        0.577161      0.386917      0.392808         1.000000   \n",
       "Wifi_Rating            0.291556      0.289327      0.330652         0.487734   \n",
       "Service_Rating         0.446439      0.358558      0.382633         0.602145   \n",
       "Hangout_Rating         0.421899      0.418974      0.192777         0.347195   \n",
       "Loyality               0.382432      0.437637      0.076594         0.311000   \n",
       "\n",
       "                 Wifi_Rating  Service_Rating  Hangout_Rating  Loyality  \n",
       "Gender             -0.075209       -0.122715        0.061883  0.019740  \n",
       "Age                 0.060829       -0.076326        0.148660  0.051895  \n",
       "Work_Status        -0.055076        0.232197        0.154611  0.200638  \n",
       "Annual_Income      -0.201368       -0.045680        0.041779 -0.011940  \n",
       "Visit              -0.073916       -0.143270        0.133433  0.079482  \n",
       "Visit_Duration      0.101275        0.008687        0.042206  0.065378  \n",
       "Distance           -0.101582       -0.184654       -0.071820 -0.089901  \n",
       "Membership          0.062597        0.277669        0.220973  0.333027  \n",
       "Spending           -0.071110       -0.154593       -0.007876 -0.075025  \n",
       "Product_Rating      0.291556        0.446439        0.421899  0.382432  \n",
       "Price_Rating        0.289327        0.358558        0.418974  0.437637  \n",
       "Promo_Rating        0.330652        0.382633        0.192777  0.076594  \n",
       "Ambiance_Rating     0.487734        0.602145        0.347195  0.311000  \n",
       "Wifi_Rating         1.000000        0.581542        0.258627  0.164041  \n",
       "Service_Rating      0.581542        1.000000        0.423987  0.199589  \n",
       "Hangout_Rating      0.258627        0.423987        1.000000  0.367519  \n",
       "Loyality            0.164041        0.199589        0.367519  1.000000  "
      ]
     },
     "execution_count": 25,
     "metadata": {},
     "output_type": "execute_result"
    }
   ],
   "source": [
    "c_matrix = raw_data.corr()\n",
    "c_matrix"
   ]
  },
  {
   "cell_type": "code",
   "execution_count": 26,
   "id": "0015529c",
   "metadata": {
    "scrolled": true
   },
   "outputs": [
    {
     "data": {
      "image/png": "[encoded data removed]",
      "text/plain": [
       "<Figure size 1440x1080 with 2 Axes>"
      ]
     },
     "metadata": {
      "needs_background": "light"
     },
     "output_type": "display_data"
    }
   ],
   "source": [
    "# Let's visualize it in a better way\n",
    "\n",
    "c_matrix = raw_data.corr()\n",
    "plt.figure(figsize=(20,15))\n",
    "sns.heatmap(c_matrix, annot=True)\n",
    "plt.show()"
   ]
  },
  {
   "cell_type": "code",
   "execution_count": 27,
   "id": "e9d63119",
   "metadata": {},
   "outputs": [
    {
     "data": {
      "text/plain": [
       "Work_Status        0.200638\n",
       "Membership         0.333027\n",
       "Product_Rating     0.382432\n",
       "Price_Rating       0.437637\n",
       "Ambiance_Rating    0.311000\n",
       "Wifi_Rating        0.164041\n",
       "Service_Rating     0.199589\n",
       "Hangout_Rating     0.367519\n",
       "Loyality           1.000000\n",
       "Name: Loyality, dtype: float64"
      ]
     },
     "execution_count": 27,
     "metadata": {},
     "output_type": "execute_result"
    }
   ],
   "source": [
    "c_target = abs(c_matrix[\"Loyality\"])\n",
    "relevant_features = c_target[c_target>0.1]\n",
    "relevant_features"
   ]
  },
  {
   "cell_type": "code",
   "execution_count": 28,
   "id": "13aa70ba",
   "metadata": {},
   "outputs": [],
   "source": [
    "lets_drop = c_target[c_target<0.1]"
   ]
  },
  {
   "cell_type": "code",
   "execution_count": 29,
   "id": "6ce08108",
   "metadata": {},
   "outputs": [
    {
     "name": "stdout",
     "output_type": "stream",
     "text": [
      "Gender            0.019740\n",
      "Age               0.051895\n",
      "Annual_Income     0.011940\n",
      "Visit             0.079482\n",
      "Visit_Duration    0.065378\n",
      "Distance          0.089901\n",
      "Spending          0.075025\n",
      "Promo_Rating      0.076594\n",
      "Name: Loyality, dtype: float64\n"
     ]
    }
   ],
   "source": [
    "print(lets_drop)"
   ]
  },
  {
   "cell_type": "code",
   "execution_count": 30,
   "id": "b0c68c6a",
   "metadata": {},
   "outputs": [],
   "source": [
    "raw_data.drop('Annual_Income', inplace=True, axis=1);\n",
    "raw_data.drop('Gender', inplace=True, axis=1);\n",
    "#raw_data.drop('Age', inplace=True, axis=1);"
   ]
  },
  {
   "cell_type": "code",
   "execution_count": 31,
   "id": "187bcd32",
   "metadata": {},
   "outputs": [
    {
     "name": "stdout",
     "output_type": "stream",
     "text": [
      "(121, 15)\n"
     ]
    }
   ],
   "source": [
    "raw_data.head()\n",
    "print(raw_data.shape)"
   ]
  },
  {
   "cell_type": "markdown",
   "id": "d9c3137d",
   "metadata": {},
   "source": [
    "## Handling the imbalanced Data"
   ]
  },
  {
   "cell_type": "code",
   "execution_count": 32,
   "id": "0b378f12",
   "metadata": {},
   "outputs": [],
   "source": [
    "fraud = raw_data[raw_data['Loyality']==1]\n",
    "normal = raw_data[raw_data['Loyality']==0]"
   ]
  },
  {
   "cell_type": "code",
   "execution_count": 33,
   "id": "a080b857",
   "metadata": {},
   "outputs": [
    {
     "name": "stdout",
     "output_type": "stream",
     "text": [
      "(94, 15) (27, 15)\n"
     ]
    }
   ],
   "source": [
    "print(fraud.shape,normal.shape)"
   ]
  },
  {
   "cell_type": "code",
   "execution_count": 34,
   "id": "62c581c5",
   "metadata": {},
   "outputs": [],
   "source": [
    "#### Independent and Dependent Features\n",
    "x=raw_data.drop(\"Loyality\",axis=1)\n",
    "y=raw_data.Loyality"
   ]
  },
  {
   "cell_type": "code",
   "execution_count": 35,
   "id": "32d1c463",
   "metadata": {},
   "outputs": [
    {
     "data": {
      "text/html": [
       "<div>\n",
       "<style scoped>\n",
       "    .dataframe tbody tr th:only-of-type {\n",
       "        vertical-align: middle;\n",
       "    }\n",
       "\n",
       "    .dataframe tbody tr th {\n",
       "        vertical-align: top;\n",
       "    }\n",
       "\n",
       "    .dataframe thead th {\n",
       "        text-align: right;\n",
       "    }\n",
       "</style>\n",
       "<table border=\"1\" class=\"dataframe\">\n",
       "  <thead>\n",
       "    <tr style=\"text-align: right;\">\n",
       "      <th></th>\n",
       "      <th>Age</th>\n",
       "      <th>Work_Status</th>\n",
       "      <th>Visit</th>\n",
       "      <th>Visit_Duration</th>\n",
       "      <th>Distance</th>\n",
       "      <th>Membership</th>\n",
       "      <th>Spending</th>\n",
       "      <th>Product_Rating</th>\n",
       "      <th>Price_Rating</th>\n",
       "      <th>Promo_Rating</th>\n",
       "      <th>Ambiance_Rating</th>\n",
       "      <th>Wifi_Rating</th>\n",
       "      <th>Service_Rating</th>\n",
       "      <th>Hangout_Rating</th>\n",
       "    </tr>\n",
       "  </thead>\n",
       "  <tbody>\n",
       "    <tr>\n",
       "      <th>0</th>\n",
       "      <td>0</td>\n",
       "      <td>0</td>\n",
       "      <td>0</td>\n",
       "      <td>0</td>\n",
       "      <td>0</td>\n",
       "      <td>1</td>\n",
       "      <td>0</td>\n",
       "      <td>4</td>\n",
       "      <td>3</td>\n",
       "      <td>5</td>\n",
       "      <td>5</td>\n",
       "      <td>4</td>\n",
       "      <td>4</td>\n",
       "      <td>3</td>\n",
       "    </tr>\n",
       "    <tr>\n",
       "      <th>1</th>\n",
       "      <td>0</td>\n",
       "      <td>0</td>\n",
       "      <td>0</td>\n",
       "      <td>1</td>\n",
       "      <td>1</td>\n",
       "      <td>1</td>\n",
       "      <td>0</td>\n",
       "      <td>4</td>\n",
       "      <td>3</td>\n",
       "      <td>4</td>\n",
       "      <td>4</td>\n",
       "      <td>4</td>\n",
       "      <td>5</td>\n",
       "      <td>2</td>\n",
       "    </tr>\n",
       "    <tr>\n",
       "      <th>2</th>\n",
       "      <td>0</td>\n",
       "      <td>1</td>\n",
       "      <td>1</td>\n",
       "      <td>0</td>\n",
       "      <td>2</td>\n",
       "      <td>1</td>\n",
       "      <td>0</td>\n",
       "      <td>4</td>\n",
       "      <td>3</td>\n",
       "      <td>4</td>\n",
       "      <td>4</td>\n",
       "      <td>4</td>\n",
       "      <td>4</td>\n",
       "      <td>3</td>\n",
       "    </tr>\n",
       "    <tr>\n",
       "      <th>3</th>\n",
       "      <td>0</td>\n",
       "      <td>0</td>\n",
       "      <td>0</td>\n",
       "      <td>1</td>\n",
       "      <td>2</td>\n",
       "      <td>0</td>\n",
       "      <td>0</td>\n",
       "      <td>2</td>\n",
       "      <td>1</td>\n",
       "      <td>4</td>\n",
       "      <td>3</td>\n",
       "      <td>3</td>\n",
       "      <td>3</td>\n",
       "      <td>3</td>\n",
       "    </tr>\n",
       "    <tr>\n",
       "      <th>4</th>\n",
       "      <td>0</td>\n",
       "      <td>0</td>\n",
       "      <td>1</td>\n",
       "      <td>0</td>\n",
       "      <td>1</td>\n",
       "      <td>0</td>\n",
       "      <td>1</td>\n",
       "      <td>3</td>\n",
       "      <td>3</td>\n",
       "      <td>4</td>\n",
       "      <td>2</td>\n",
       "      <td>2</td>\n",
       "      <td>3</td>\n",
       "      <td>3</td>\n",
       "    </tr>\n",
       "  </tbody>\n",
       "</table>\n",
       "</div>"
      ],
      "text/plain": [
       "   Age  Work_Status  Visit  Visit_Duration  Distance  Membership  Spending  \\\n",
       "0    0            0      0               0         0           1         0   \n",
       "1    0            0      0               1         1           1         0   \n",
       "2    0            1      1               0         2           1         0   \n",
       "3    0            0      0               1         2           0         0   \n",
       "4    0            0      1               0         1           0         1   \n",
       "\n",
       "   Product_Rating  Price_Rating  Promo_Rating  Ambiance_Rating  Wifi_Rating  \\\n",
       "0               4             3             5                5            4   \n",
       "1               4             3             4                4            4   \n",
       "2               4             3             4                4            4   \n",
       "3               2             1             4                3            3   \n",
       "4               3             3             4                2            2   \n",
       "\n",
       "   Service_Rating  Hangout_Rating  \n",
       "0               4               3  \n",
       "1               5               2  \n",
       "2               4               3  \n",
       "3               3               3  \n",
       "4               3               3  "
      ]
     },
     "execution_count": 35,
     "metadata": {},
     "output_type": "execute_result"
    }
   ],
   "source": [
    "x.head()"
   ]
  },
  {
   "cell_type": "code",
   "execution_count": 36,
   "id": "9b36b6e7",
   "metadata": {},
   "outputs": [
    {
     "data": {
      "text/plain": [
       "0      1\n",
       "1      1\n",
       "2      1\n",
       "3      0\n",
       "4      1\n",
       "      ..\n",
       "117    1\n",
       "118    1\n",
       "119    0\n",
       "120    1\n",
       "121    0\n",
       "Name: Loyality, Length: 121, dtype: int64"
      ]
     },
     "execution_count": 36,
     "metadata": {},
     "output_type": "execute_result"
    }
   ],
   "source": [
    "y"
   ]
  },
  {
   "cell_type": "code",
   "execution_count": 37,
   "id": "6839febd",
   "metadata": {},
   "outputs": [],
   "source": [
    "from sklearn.model_selection import train_test_split"
   ]
  },
  {
   "cell_type": "code",
   "execution_count": 38,
   "id": "34f2c2a7",
   "metadata": {},
   "outputs": [],
   "source": [
    "# Random seed for reproducibility\n",
    "np.random.seed(42)\n",
    "\n",
    "# Split into train & test set\n",
    "x_train, x_test, y_train, y_test = train_test_split(x, # independent variables \n",
    "                                                    y, # dependent variable\n",
    "                                                    test_size = 0.2) # percentage of data to use for test set"
   ]
  },
  {
   "cell_type": "markdown",
   "id": "ee6baa2d",
   "metadata": {},
   "source": [
    "#### Importing libraries"
   ]
  },
  {
   "cell_type": "code",
   "execution_count": 39,
   "id": "4b96adac",
   "metadata": {},
   "outputs": [],
   "source": [
    "from imblearn.over_sampling import SMOTE\n",
    "from collections import Counter"
   ]
  },
  {
   "cell_type": "code",
   "execution_count": 40,
   "id": "02a67401",
   "metadata": {},
   "outputs": [
    {
     "data": {
      "text/plain": [
       "Counter({1: 75, 0: 21})"
      ]
     },
     "execution_count": 40,
     "metadata": {},
     "output_type": "execute_result"
    }
   ],
   "source": [
    "Counter(y_train)"
   ]
  },
  {
   "cell_type": "code",
   "execution_count": 41,
   "id": "a9c7ee24",
   "metadata": {},
   "outputs": [],
   "source": [
    "sm = SMOTE(random_state=12)\n",
    "x_train_res, y_train_res = sm.fit_resample(x_train,y_train)"
   ]
  },
  {
   "cell_type": "code",
   "execution_count": 42,
   "id": "f14fc51c",
   "metadata": {},
   "outputs": [
    {
     "data": {
      "text/plain": [
       "Counter({1: 75, 0: 75})"
      ]
     },
     "execution_count": 42,
     "metadata": {},
     "output_type": "execute_result"
    }
   ],
   "source": [
    "Counter(y_train_res)"
   ]
  },
  {
   "cell_type": "code",
   "execution_count": 43,
   "id": "0ccc0507",
   "metadata": {},
   "outputs": [
    {
     "data": {
      "image/png": "[encoded data removed]",
      "text/plain": [
       "<Figure size 432x288 with 1 Axes>"
      ]
     },
     "metadata": {
      "needs_background": "light"
     },
     "output_type": "display_data"
    }
   ],
   "source": [
    "#Ploting the value counts with a bar graph\n",
    "y_train_res.value_counts().plot(kind='bar', color=['black', 'gray']);"
   ]
  },
  {
   "cell_type": "code",
   "execution_count": 44,
   "id": "f906328e",
   "metadata": {},
   "outputs": [
    {
     "data": {
      "text/plain": [
       "0    0.5\n",
       "1    0.5\n",
       "Name: Loyality, dtype: float64"
      ]
     },
     "execution_count": 44,
     "metadata": {},
     "output_type": "execute_result"
    }
   ],
   "source": [
    "y_train_res.value_counts(normalize=True)"
   ]
  },
  {
   "cell_type": "code",
   "execution_count": 45,
   "id": "5bd29d0b",
   "metadata": {},
   "outputs": [],
   "source": [
    "X_train = x_train_res\n",
    "X_test = x_test\n",
    "y_train = y_train_res"
   ]
  },
  {
   "cell_type": "markdown",
   "id": "76a773e5",
   "metadata": {},
   "source": [
    "# MODELLING"
   ]
  },
  {
   "cell_type": "code",
   "execution_count": 46,
   "id": "d93c94ef",
   "metadata": {},
   "outputs": [],
   "source": [
    "from sklearn.svm import SVC\n",
    "from sklearn.metrics import accuracy_score"
   ]
  },
  {
   "cell_type": "code",
   "execution_count": 47,
   "id": "a8e99e98",
   "metadata": {},
   "outputs": [],
   "source": [
    "svc=SVC() "
   ]
  },
  {
   "cell_type": "code",
   "execution_count": 48,
   "id": "14acfd08",
   "metadata": {},
   "outputs": [
    {
     "name": "stdout",
     "output_type": "stream",
     "text": [
      "Model accuracy score with default hyperparameters: 0.7600\n"
     ]
    }
   ],
   "source": [
    "svc.fit(X_train,y_train)\n",
    "y_pred=svc.predict(X_test)\n",
    "# compute and print accuracy score\n",
    "print('Model accuracy score with default hyperparameters: {0:0.4f}'. format(accuracy_score(y_test, y_pred)))"
   ]
  },
  {
   "cell_type": "markdown",
   "id": "1e21d20f",
   "metadata": {},
   "source": [
    "### Assuming SVC is not working good! So let's try Three Different Model!"
   ]
  },
  {
   "cell_type": "code",
   "execution_count": 49,
   "id": "d2520bdc",
   "metadata": {},
   "outputs": [],
   "source": [
    "#Models\n",
    "from sklearn.linear_model import LogisticRegression\n",
    "from sklearn.neighbors import KNeighborsClassifier\n",
    "from sklearn.ensemble import RandomForestClassifier"
   ]
  },
  {
   "cell_type": "code",
   "execution_count": 50,
   "id": "ce519510",
   "metadata": {},
   "outputs": [],
   "source": [
    "#Model Evaluators\n",
    "from sklearn.model_selection import cross_val_score\n",
    "from sklearn.model_selection import RandomizedSearchCV\n",
    "\n",
    "from sklearn.metrics import confusion_matrix, classification_report\n",
    "from sklearn.metrics import precision_score, recall_score, f1_score"
   ]
  },
  {
   "cell_type": "code",
   "execution_count": 51,
   "id": "73f35549",
   "metadata": {},
   "outputs": [],
   "source": [
    "from sklearn.metrics import plot_roc_curve"
   ]
  },
  {
   "cell_type": "code",
   "execution_count": 52,
   "id": "9054788a",
   "metadata": {},
   "outputs": [],
   "source": [
    "models = {\"KNN\": KNeighborsClassifier(),\n",
    "          \"Logistic Regression\": LogisticRegression(), \n",
    "          \"Random Forest\": RandomForestClassifier()}\n",
    "\n",
    "def fit_and_score(models, X_train, X_test, y_train, y_test):\n",
    "\n",
    "    np.random.seed(42)\n",
    "    model_scores = {}\n",
    "\n",
    "    for name, model in models.items():\n",
    "        model.fit(X_train, y_train)\n",
    "        model_scores[name] = model.score(X_test, y_test)\n",
    "    return model_scores"
   ]
  },
  {
   "cell_type": "code",
   "execution_count": 53,
   "id": "4fc7cfc6",
   "metadata": {
    "scrolled": true
   },
   "outputs": [
    {
     "data": {
      "text/plain": [
       "{'KNN': 0.68, 'Logistic Regression': 0.72, 'Random Forest': 0.76}"
      ]
     },
     "execution_count": 53,
     "metadata": {},
     "output_type": "execute_result"
    }
   ],
   "source": [
    "model_scores = fit_and_score(models=models,\n",
    "                             X_train=X_train,\n",
    "                             X_test=X_test,\n",
    "                             y_train=y_train,\n",
    "                             y_test=y_test);\n",
    "model_scores"
   ]
  },
  {
   "cell_type": "markdown",
   "id": "7349fd55",
   "metadata": {},
   "source": [
    "## Visualizing Model Comparison"
   ]
  },
  {
   "cell_type": "code",
   "execution_count": 54,
   "id": "ffcd075d",
   "metadata": {},
   "outputs": [
    {
     "data": {
      "image/png": "[encoded data removed]",
      "text/plain": [
       "<Figure size 432x288 with 1 Axes>"
      ]
     },
     "metadata": {
      "needs_background": "light"
     },
     "output_type": "display_data"
    }
   ],
   "source": [
    "model_compare = pd.DataFrame(model_scores, index=['accuracy'])\n",
    "model_compare.T.plot.bar();"
   ]
  },
  {
   "cell_type": "markdown",
   "id": "2c7e8a15",
   "metadata": {},
   "source": [
    "# Hyperparameter tuning and cross-validation"
   ]
  },
  {
   "cell_type": "markdown",
   "id": "67679ce6",
   "metadata": {},
   "source": [
    "### Tune KNeighborsClassifier"
   ]
  },
  {
   "cell_type": "code",
   "execution_count": 55,
   "id": "3639b464",
   "metadata": {},
   "outputs": [],
   "source": [
    "train_scores = []\n",
    "test_scores = []\n",
    "\n",
    "# Create a list of different values for n_neighbors\n",
    "neighbors = range(1, 21) # 1 to 20\n",
    "\n",
    "\n",
    "knn = KNeighborsClassifier()\n",
    "\n",
    "\n",
    "for i in neighbors:\n",
    "    knn.set_params(n_neighbors = i) # set neighbors value\n",
    "    \n",
    "    # Fit the algorithm\n",
    "    knn.fit(X_train, y_train)\n",
    "    \n",
    "    # Update the training scores\n",
    "    train_scores.append(knn.score(X_train, y_train))\n",
    "    \n",
    "    # Update the test scores\n",
    "    test_scores.append(knn.score(X_test, y_test))"
   ]
  },
  {
   "cell_type": "code",
   "execution_count": 56,
   "id": "8aecaa6b",
   "metadata": {},
   "outputs": [
    {
     "data": {
      "text/plain": [
       "[1.0,\n",
       " 0.9066666666666666,\n",
       " 0.9466666666666667,\n",
       " 0.9066666666666666,\n",
       " 0.9333333333333333,\n",
       " 0.9,\n",
       " 0.9133333333333333,\n",
       " 0.9,\n",
       " 0.9133333333333333,\n",
       " 0.9133333333333333,\n",
       " 0.9133333333333333,\n",
       " 0.9,\n",
       " 0.9133333333333333,\n",
       " 0.9,\n",
       " 0.8866666666666667,\n",
       " 0.88,\n",
       " 0.8933333333333333,\n",
       " 0.88,\n",
       " 0.8733333333333333,\n",
       " 0.8733333333333333]"
      ]
     },
     "execution_count": 56,
     "metadata": {},
     "output_type": "execute_result"
    }
   ],
   "source": [
    "train_scores"
   ]
  },
  {
   "cell_type": "code",
   "execution_count": 57,
   "id": "70399170",
   "metadata": {},
   "outputs": [
    {
     "name": "stdout",
     "output_type": "stream",
     "text": [
      "Maximum KNN score on the test data: 84.00%\n"
     ]
    },
    {
     "data": {
      "image/png": "[encoded data removed]",
      "text/plain": [
       "<Figure size 432x288 with 1 Axes>"
      ]
     },
     "metadata": {
      "needs_background": "light"
     },
     "output_type": "display_data"
    }
   ],
   "source": [
    "plt.plot(neighbors, train_scores, label=\"Train score\")\n",
    "plt.plot(neighbors, test_scores, label=\"Test score\")\n",
    "plt.xticks(np.arange(1, 21, 1))\n",
    "plt.xlabel(\"Number of neighbors\")\n",
    "plt.ylabel(\"Model score\")\n",
    "plt.legend()\n",
    "\n",
    "print(f\"Maximum KNN score on the test data: {max(test_scores)*100:.2f}%\")"
   ]
  },
  {
   "cell_type": "markdown",
   "id": "f08e8dee",
   "metadata": {},
   "source": [
    "### Tuning models with with RandomizedSearchCV"
   ]
  },
  {
   "cell_type": "markdown",
   "id": "19370d65",
   "metadata": {},
   "source": [
    "##### Logistic Regression"
   ]
  },
  {
   "cell_type": "code",
   "execution_count": 58,
   "id": "ae53a55c",
   "metadata": {},
   "outputs": [],
   "source": [
    "log_reg_grid = {\"C\": np.logspace(-4, 4, 20),\n",
    "                \"solver\": [\"liblinear\"]}"
   ]
  },
  {
   "cell_type": "code",
   "execution_count": 59,
   "id": "57c5823e",
   "metadata": {},
   "outputs": [
    {
     "name": "stdout",
     "output_type": "stream",
     "text": [
      "Fitting 5 folds for each of 20 candidates, totalling 100 fits\n"
     ]
    }
   ],
   "source": [
    "# Setup random seed\n",
    "np.random.seed(42)\n",
    "\n",
    "# Setup random hyperparameter search for LogisticRegression\n",
    "rs_log_reg = RandomizedSearchCV(LogisticRegression(),\n",
    "                                param_distributions=log_reg_grid,\n",
    "                                cv=5,\n",
    "                                n_iter=20,\n",
    "                                verbose=True)\n",
    "\n",
    "# Fit random hyperparameter search model\n",
    "rs_log_reg.fit(X_train, y_train);"
   ]
  },
  {
   "cell_type": "code",
   "execution_count": 60,
   "id": "2eea051c",
   "metadata": {},
   "outputs": [
    {
     "data": {
      "text/plain": [
       "{'solver': 'liblinear', 'C': 4.281332398719396}"
      ]
     },
     "execution_count": 60,
     "metadata": {},
     "output_type": "execute_result"
    }
   ],
   "source": [
    "rs_log_reg.best_params_"
   ]
  },
  {
   "cell_type": "code",
   "execution_count": 61,
   "id": "c2edf5dc",
   "metadata": {},
   "outputs": [
    {
     "data": {
      "text/plain": [
       "0.64"
      ]
     },
     "execution_count": 61,
     "metadata": {},
     "output_type": "execute_result"
    }
   ],
   "source": [
    "rs_log_reg.score(X_test, y_test)"
   ]
  },
  {
   "cell_type": "markdown",
   "id": "645704ff",
   "metadata": {},
   "source": [
    "##### Random Forest"
   ]
  },
  {
   "cell_type": "code",
   "execution_count": 62,
   "id": "d8c5571e",
   "metadata": {},
   "outputs": [],
   "source": [
    "rf_grid = {\"n_estimators\": np.arange(10, 1000, 50),\n",
    "           \"max_depth\": [None, 3, 5, 10],\n",
    "           \"min_samples_split\": np.arange(2, 20, 2),\n",
    "           \"min_samples_leaf\": np.arange(1, 20, 2)}"
   ]
  },
  {
   "cell_type": "code",
   "execution_count": 63,
   "id": "cdc693ef",
   "metadata": {},
   "outputs": [
    {
     "name": "stdout",
     "output_type": "stream",
     "text": [
      "Fitting 5 folds for each of 20 candidates, totalling 100 fits\n"
     ]
    }
   ],
   "source": [
    "# Setup random seed\n",
    "np.random.seed(42)\n",
    "\n",
    "# Setup random hyperparameter search for RandomForestClassifier\n",
    "rs_rf = RandomizedSearchCV(RandomForestClassifier(),\n",
    "                           param_distributions=rf_grid,\n",
    "                           cv=5,\n",
    "                           n_iter=20,\n",
    "                           verbose=True)\n",
    "\n",
    "# Fit random hyperparameter search model\n",
    "rs_rf.fit(X_train, y_train);"
   ]
  },
  {
   "cell_type": "code",
   "execution_count": 64,
   "id": "6f952f62",
   "metadata": {},
   "outputs": [
    {
     "data": {
      "text/plain": [
       "{'n_estimators': 510,\n",
       " 'min_samples_split': 18,\n",
       " 'min_samples_leaf': 19,\n",
       " 'max_depth': 5}"
      ]
     },
     "execution_count": 64,
     "metadata": {},
     "output_type": "execute_result"
    }
   ],
   "source": [
    "rs_rf.best_params_"
   ]
  },
  {
   "cell_type": "code",
   "execution_count": 65,
   "id": "09cb46e4",
   "metadata": {},
   "outputs": [
    {
     "data": {
      "text/plain": [
       "0.92"
      ]
     },
     "execution_count": 65,
     "metadata": {},
     "output_type": "execute_result"
    }
   ],
   "source": [
    "# Evaluate the randomized search random forest model\n",
    "rs_rf.score(X_test, y_test)"
   ]
  },
  {
   "cell_type": "markdown",
   "id": "0e2e35e2",
   "metadata": {},
   "source": [
    "# Evaluating a classification model, beyond accuracy"
   ]
  },
  {
   "cell_type": "code",
   "execution_count": 66,
   "id": "713cb3e9",
   "metadata": {},
   "outputs": [],
   "source": [
    "#  ROC curve and AUC score - plot_roc_curve()\n",
    "#  Confusion matrix - confusion_matrix()\n",
    "#  Classification report - classification_report()\n",
    "#  Precision - precision_score()\n",
    "#  Recall - recall_score()\n",
    "#  F1-score - f1_score()"
   ]
  },
  {
   "cell_type": "code",
   "execution_count": 67,
   "id": "fc9f0e54",
   "metadata": {},
   "outputs": [],
   "source": [
    "# Make preidctions on test data\n",
    "y_preds = rs_rf.predict(X_test)"
   ]
  },
  {
   "cell_type": "code",
   "execution_count": 68,
   "id": "ccad99e6",
   "metadata": {},
   "outputs": [],
   "source": [
    "# import warnings filter\n",
    "from warnings import simplefilter\n",
    "# ignore all future warnings\n",
    "simplefilter(action='ignore', category=FutureWarning)"
   ]
  },
  {
   "cell_type": "code",
   "execution_count": 69,
   "id": "c3654157",
   "metadata": {},
   "outputs": [
    {
     "data": {
      "image/png": "[encoded data removed]",
      "text/plain": [
       "<Figure size 432x288 with 1 Axes>"
      ]
     },
     "metadata": {
      "needs_background": "light"
     },
     "output_type": "display_data"
    }
   ],
   "source": [
    "from sklearn.metrics import plot_roc_curve\n",
    "plot_roc_curve(rs_rf, X_test, y_test);"
   ]
  },
  {
   "cell_type": "code",
   "execution_count": 70,
   "id": "b16fbab9",
   "metadata": {},
   "outputs": [
    {
     "name": "stdout",
     "output_type": "stream",
     "text": [
      "[[ 5  1]\n",
      " [ 1 18]]\n"
     ]
    }
   ],
   "source": [
    "# Display confusion matrix\n",
    "print(confusion_matrix(y_test, y_preds))"
   ]
  },
  {
   "cell_type": "code",
   "execution_count": 71,
   "id": "a0388088",
   "metadata": {},
   "outputs": [
    {
     "data": {
      "image/png": "[encoded data removed]",
      "text/plain": [
       "<Figure size 216x216 with 1 Axes>"
      ]
     },
     "metadata": {},
     "output_type": "display_data"
    }
   ],
   "source": [
    "# Import Seaborn\n",
    "import seaborn as sns\n",
    "sns.set(font_scale=1.5) # Increase font size\n",
    "\n",
    "def plot_conf_mat(y_test, y_preds):\n",
    "    fig, ax = plt.subplots(figsize=(3, 3))\n",
    "    ax = sns.heatmap(confusion_matrix(y_test, y_preds),\n",
    "                     annot=True, # Annotate the boxes\n",
    "                     cbar=False)\n",
    "    plt.xlabel(\"true label\")\n",
    "    plt.ylabel(\"predicted label\")\n",
    "    \n",
    "plot_conf_mat(y_test, y_preds)"
   ]
  },
  {
   "cell_type": "code",
   "execution_count": 72,
   "id": "8526e3b4",
   "metadata": {},
   "outputs": [
    {
     "name": "stdout",
     "output_type": "stream",
     "text": [
      "              precision    recall  f1-score   support\n",
      "\n",
      "           0       0.83      0.83      0.83         6\n",
      "           1       0.95      0.95      0.95        19\n",
      "\n",
      "    accuracy                           0.92        25\n",
      "   macro avg       0.89      0.89      0.89        25\n",
      "weighted avg       0.92      0.92      0.92        25\n",
      "\n"
     ]
    }
   ],
   "source": [
    "# Show classification report\n",
    "print(classification_report(y_test, y_preds))"
   ]
  },
  {
   "cell_type": "code",
   "execution_count": 73,
   "id": "6a21ddc8",
   "metadata": {},
   "outputs": [
    {
     "data": {
      "text/plain": [
       "{'n_estimators': 510,\n",
       " 'min_samples_split': 18,\n",
       " 'min_samples_leaf': 19,\n",
       " 'max_depth': 5}"
      ]
     },
     "execution_count": 73,
     "metadata": {},
     "output_type": "execute_result"
    }
   ],
   "source": [
    "# Check best hyperparameters\n",
    "rs_rf.best_params_"
   ]
  },
  {
   "cell_type": "code",
   "execution_count": 74,
   "id": "74671b81",
   "metadata": {},
   "outputs": [],
   "source": [
    "# Import cross_val_score\n",
    "from sklearn.model_selection import cross_val_score\n",
    "\n",
    "# Instantiate best model with best hyperparameters (found with RandomSearchCV)\n",
    "clf = RandomForestClassifier(n_estimators=510,\n",
    " min_samples_split=18,\n",
    " min_samples_leaf=19,\n",
    " max_depth=5)"
   ]
  },
  {
   "cell_type": "code",
   "execution_count": 75,
   "id": "8e204683",
   "metadata": {},
   "outputs": [
    {
     "data": {
      "text/plain": [
       "array([0.76      , 0.79166667, 0.79166667, 0.79166667, 0.75      ])"
      ]
     },
     "execution_count": 75,
     "metadata": {},
     "output_type": "execute_result"
    }
   ],
   "source": [
    "# Cross-validated accuracy score\n",
    "cv_acc = cross_val_score(clf,\n",
    "                         x,\n",
    "                         y,\n",
    "                         cv=5, # 5-fold cross-validation\n",
    "                         scoring=\"accuracy\") # accuracy as scoring\n",
    "cv_acc"
   ]
  },
  {
   "cell_type": "code",
   "execution_count": 76,
   "id": "9c5215c7",
   "metadata": {},
   "outputs": [
    {
     "data": {
      "text/plain": [
       "0.7769999999999999"
      ]
     },
     "execution_count": 76,
     "metadata": {},
     "output_type": "execute_result"
    }
   ],
   "source": [
    "cv_acc = np.mean(cv_acc)\n",
    "cv_acc"
   ]
  },
  {
   "cell_type": "code",
   "execution_count": 77,
   "id": "9d0a0387",
   "metadata": {},
   "outputs": [
    {
     "data": {
      "text/plain": [
       "0.7769999999999999"
      ]
     },
     "execution_count": 77,
     "metadata": {},
     "output_type": "execute_result"
    }
   ],
   "source": [
    "# Cross-validated precision score\n",
    "cv_precision = np.mean(cross_val_score(clf,\n",
    "                                       x,\n",
    "                                       y,\n",
    "                                       cv=5, # 5-fold cross-validation\n",
    "                                       scoring=\"precision\")) # precision as scoring\n",
    "cv_precision"
   ]
  },
  {
   "cell_type": "code",
   "execution_count": 78,
   "id": "7994b0fd",
   "metadata": {},
   "outputs": [
    {
     "data": {
      "text/plain": [
       "1.0"
      ]
     },
     "execution_count": 78,
     "metadata": {},
     "output_type": "execute_result"
    }
   ],
   "source": [
    "# Cross-validated recall score\n",
    "cv_recall = np.mean(cross_val_score(clf,\n",
    "                                    x,\n",
    "                                    y,\n",
    "                                    cv=5, # 5-fold cross-validation\n",
    "                                    scoring=\"recall\")) # recall as scoring\n",
    "cv_recall"
   ]
  },
  {
   "cell_type": "code",
   "execution_count": 79,
   "id": "18368475",
   "metadata": {},
   "outputs": [
    {
     "data": {
      "text/plain": [
       "0.874388402295379"
      ]
     },
     "execution_count": 79,
     "metadata": {},
     "output_type": "execute_result"
    }
   ],
   "source": [
    "# Cross-validated F1 score\n",
    "cv_f1 = np.mean(cross_val_score(clf,\n",
    "                                x,\n",
    "                                y,\n",
    "                                cv=5, # 5-fold cross-validation\n",
    "                                scoring=\"f1\")) # f1 as scoring\n",
    "cv_f1"
   ]
  },
  {
   "cell_type": "code",
   "execution_count": 80,
   "id": "ecb65efa",
   "metadata": {
    "scrolled": true
   },
   "outputs": [
    {
     "data": {
      "image/png": "[encoded data removed]",
      "text/plain": [
       "<Figure size 432x288 with 1 Axes>"
      ]
     },
     "metadata": {},
     "output_type": "display_data"
    }
   ],
   "source": [
    "# Visualizing cross-validated metrics\n",
    "cv_metrics = pd.DataFrame({\"Accuracy\": cv_acc,\n",
    "                            \"Precision\": cv_precision,\n",
    "                            \"Recall\": cv_recall,\n",
    "                            \"F1\": cv_f1},\n",
    "                          index=[0])\n",
    "cv_metrics.T.plot.bar(title=\"Cross-Validated Metrics\", legend=False);"
   ]
  },
  {
   "cell_type": "code",
   "execution_count": 81,
   "id": "26d41655",
   "metadata": {},
   "outputs": [],
   "source": [
    "# Fit an instance of RandomForest (taken from above)\n",
    "clf.fit(X_train, y_train);"
   ]
  },
  {
   "cell_type": "markdown",
   "id": "b7eb3961",
   "metadata": {},
   "source": [
    "# Saving and Loading trained machine learing models"
   ]
  },
  {
   "cell_type": "code",
   "execution_count": 82,
   "id": "b837dcaf",
   "metadata": {},
   "outputs": [],
   "source": [
    "#Save trained model to file\n",
    "import pickle\n",
    "pickle.dump(clf, open(\"Random_Forest_model_1.pkl\", \"wb\"))"
   ]
  }
 ],
 "metadata": {
  "kernelspec": {
   "display_name": "Python 3",
   "language": "python",
   "name": "python3"
  },
  "language_info": {
   "codemirror_mode": {
    "name": "ipython",
    "version": 3
   },
   "file_extension": ".py",
   "mimetype": "text/x-python",
   "name": "python",
   "nbconvert_exporter": "python",
   "pygments_lexer": "ipython3",
   "version": "3.8.8"
  }
 },
 "nbformat": 4,
 "nbformat_minor": 5
}
